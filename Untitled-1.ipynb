{
 "cells": [
  {
   "cell_type": "code",
   "execution_count": 1,
   "metadata": {},
   "outputs": [],
   "source": [
    "import spacy\n",
    "import nltk\n",
    "from nltk import sent_tokenize, word_tokenize, pos_tag\n",
    "import textacy\n",
    "import textacy.preprocessing\n",
    "import textacy.resources\n",
    "nlp = spacy.load(\"en_core_web_sm\")"
   ]
  },
  {
   "cell_type": "code",
   "execution_count": 4,
   "metadata": {},
   "outputs": [
    {
     "ename": "ModuleNotFoundError",
     "evalue": "No module named 'neuralcoref'",
     "output_type": "error",
     "traceback": [
      "\u001b[1;31m---------------------------------------------------------------------------\u001b[0m",
      "\u001b[1;31mModuleNotFoundError\u001b[0m                       Traceback (most recent call last)",
      "\u001b[1;32m~\\AppData\\Local\\Temp\\ipykernel_1624\\3371002006.py\u001b[0m in \u001b[0;36m<module>\u001b[1;34m\u001b[0m\n\u001b[1;32m----> 1\u001b[1;33m \u001b[1;32mimport\u001b[0m \u001b[0mneuralcoref\u001b[0m\u001b[1;33m\u001b[0m\u001b[1;33m\u001b[0m\u001b[0m\n\u001b[0m",
      "\u001b[1;31mModuleNotFoundError\u001b[0m: No module named 'neuralcoref'"
     ]
    }
   ],
   "source": [
    "import neuralcoref"
   ]
  },
  {
   "cell_type": "code",
   "execution_count": 12,
   "metadata": {},
   "outputs": [
    {
     "name": "stderr",
     "output_type": "stream",
     "text": [
      "c:\\Users\\sjsheikh\\Anaconda3\\envs\\Second\\lib\\importlib\\_bootstrap.py:219: RuntimeWarning: spacy.morphology.Morphology size changed, may indicate binary incompatibility. Expected 104 from C header, got 112 from PyObject\n",
      "  return f(*args, **kwds)\n",
      "c:\\Users\\sjsheikh\\Anaconda3\\envs\\Second\\lib\\importlib\\_bootstrap.py:219: RuntimeWarning: spacy.vocab.Vocab size changed, may indicate binary incompatibility. Expected 96 from C header, got 112 from PyObject\n",
      "  return f(*args, **kwds)\n",
      "c:\\Users\\sjsheikh\\Anaconda3\\envs\\Second\\lib\\importlib\\_bootstrap.py:219: RuntimeWarning: spacy.tokens.span.Span size changed, may indicate binary incompatibility. Expected 72 from C header, got 80 from PyObject\n",
      "  return f(*args, **kwds)\n"
     ]
    },
    {
     "ename": "",
     "evalue": "",
     "output_type": "error",
     "traceback": [
      "\u001b[1;31mCannot execute code, session has been disposed. Please try restarting the Kernel."
     ]
    },
    {
     "ename": "",
     "evalue": "",
     "output_type": "error",
     "traceback": [
      "\u001b[1;31mThe Kernel crashed while executing code in the the current cell or a previous cell. Please review the code in the cell(s) to identify a possible cause of the failure. Click <a href='https://aka.ms/vscodeJupyterKernelCrash'>here</a> for more info. View Jupyter <a href='command:jupyter.viewOutput'>log</a> for further details."
     ]
    }
   ],
   "source": [
    "import neuralcoref\n",
    "coref = neuralcoref.NeuralCoref(nlp.vocab)\n",
    "nlp.add_pipe(coref, name='neuralcoref')\n",
    "\n",
    "# You're done. You can now use NeuralCoref the same way you usually manipulate a SpaCy document and it's annotations.\n",
    "doc = nlp(u'My sister has a dog. She loves him.')\n",
    "\n",
    "doc._.has_coref\n",
    "doc._.coref_clusters"
   ]
  },
  {
   "cell_type": "code",
   "execution_count": 2,
   "metadata": {},
   "outputs": [
    {
     "name": "stdout",
     "output_type": "stream",
     "text": [
      "\n",
      "Spacy Sentences:\n",
      "\n",
      "excessive overthinking leads to insomnia.\n",
      "stress caused insomnia.\n",
      "insomnia causes stress.\n",
      "stress results in insomnia.\n",
      "stress caused my insomnia.\n",
      "overthinking can increase anxiety.\n",
      "overthinking can cause insomnia.\n",
      "stress is a reason of my insomnia.\n",
      "stress results to insomnia.\n",
      "\n",
      "NLTK Sentences:\n",
      "\n",
      "excessive overthinking leads to insomnia.\n",
      "stress caused insomnia.\n",
      "insomnia causes stress.\n",
      "stress results in insomnia.\n",
      "stress caused my insomnia.\n",
      "overthinking can increase anxiety.\n",
      "overthinking can cause insomnia.\n",
      "stress is a reason of my insomnia.\n",
      "stress results to insomnia.\n"
     ]
    }
   ],
   "source": [
    "file_name = './Text/Simplified Medical Text.txt'\n",
    "narrative = open(file_name, encoding=\"utf8\").read()\n",
    "\n",
    "narrative = textacy.preprocessing.normalize_quotation_marks(narrative)\n",
    "narrative = narrative.lower()\n",
    "narrative = nlp(narrative)\n",
    "\n",
    "# print('Original Narrative:')\n",
    "# print(narrative)\n",
    "# print('Extracted Coreferences:')\n",
    "# print(narrative._.coref_clusters)\n",
    "# print('\\n')\n",
    "# narrative = narrative._.coref_resolved\n",
    "# print('Narrarive after resolving coreferences:')\n",
    "# print(narrative)\n",
    "\n",
    "raw_sentences = sent_tokenize(str(narrative))\n",
    "#narrative = nlp(narrative)\n",
    "\n",
    "print('\\nSpacy Sentences:\\n')\n",
    "for sent in narrative.sents:\n",
    "    print(sent.text)\n",
    "\n",
    "print('\\nNLTK Sentences:\\n')\n",
    "for sent in raw_sentences:\n",
    "    print(sent)"
   ]
  },
  {
   "cell_type": "code",
   "execution_count": 7,
   "metadata": {},
   "outputs": [
    {
     "name": "stdout",
     "output_type": "stream",
     "text": [
      "Sentence:\n",
      "excessive overthinking leads to insomnia.\n",
      "Noun Chunks:\n",
      "excessive overthinking\n",
      "[('excessive', 'JJ'), ('overthinking', 'NN')]\n",
      "insomnia\n",
      "[('insomnia', 'NN')]\n",
      "Sentence:\n",
      "stress caused insomnia.\n",
      "Noun Chunks:\n",
      "stress\n",
      "[('stress', 'NN')]\n",
      "insomnia\n",
      "[('insomnia', 'NN')]\n",
      "Sentence:\n",
      "insomnia causes stress.\n",
      "Noun Chunks:\n",
      "insomnia\n",
      "[('insomnia', 'NN')]\n",
      "stress\n",
      "[('stress', 'NN')]\n",
      "Sentence:\n",
      "stress results in insomnia.\n",
      "Noun Chunks:\n",
      "stress\n",
      "[('stress', 'NN')]\n",
      "insomnia\n",
      "[('insomnia', 'NN')]\n",
      "Sentence:\n",
      "stress caused my insomnia.\n",
      "Noun Chunks:\n",
      "stress\n",
      "[('stress', 'NN')]\n",
      "my insomnia\n",
      "[('my', 'PRP$'), ('insomnia', 'NN')]\n",
      "Sentence:\n",
      "overthinking can increase anxiety.\n",
      "Noun Chunks:\n",
      "overthinking\n",
      "[('overthinking', 'VBG')]\n",
      "anxiety\n",
      "[('anxiety', 'NN')]\n",
      "Sentence:\n",
      "overthinking can cause insomnia.\n",
      "Noun Chunks:\n",
      "overthinking\n",
      "[('overthinking', 'VBG')]\n",
      "insomnia\n",
      "[('insomnia', 'NN')]\n",
      "Sentence:\n",
      "stress is a reason of my insomnia.\n",
      "Noun Chunks:\n",
      "stress\n",
      "[('stress', 'NN')]\n",
      "a reason\n",
      "[('a', 'DT'), ('reason', 'NN')]\n",
      "my insomnia\n",
      "[('my', 'PRP$'), ('insomnia', 'NN')]\n",
      "Sentence:\n",
      "stress results to insomnia.\n",
      "Noun Chunks:\n",
      "stress\n",
      "[('stress', 'NN')]\n",
      "insomnia\n",
      "[('insomnia', 'NN')]\n"
     ]
    }
   ],
   "source": [
    "for sent in raw_sentences:\n",
    "    sent = nlp(sent)\n",
    "    print(\"Sentence:\")\n",
    "    print(sent)\n",
    "    \n",
    "    print(\"Noun Chunks:\")\n",
    "    for nc in sent.noun_chunks:\n",
    "        print (nc)\n",
    "        print(pos_tag(word_tokenize(str(nc))))"
   ]
  }
 ],
 "metadata": {
  "kernelspec": {
   "display_name": "Second",
   "language": "python",
   "name": "python3"
  },
  "language_info": {
   "codemirror_mode": {
    "name": "ipython",
    "version": 3
   },
   "file_extension": ".py",
   "mimetype": "text/x-python",
   "name": "python",
   "nbconvert_exporter": "python",
   "pygments_lexer": "ipython3",
   "version": "3.7.16"
  },
  "orig_nbformat": 4
 },
 "nbformat": 4,
 "nbformat_minor": 2
}
