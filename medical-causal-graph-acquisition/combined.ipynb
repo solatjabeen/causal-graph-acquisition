{
 "cells": [
  {
   "cell_type": "markdown",
   "metadata": {},
   "source": [
    "### Medical Records Classification\n",
    "\n",
    "##### How to use\n",
    "- Run all cells till Feature Vector section\n",
    "- Run any one feature vector to get test_vectors and doc_vectors along with pairwise dist calculations\n",
    "- For clustering, go the Clustering Analysis section, and run any one algorithm\n",
    "- Tune parameters as needed"
   ]
  },
  {
   "cell_type": "code",
   "execution_count": 1,
   "metadata": {},
   "outputs": [],
   "source": [
    "import pandas as pd\n",
    "import numpy as np\n",
    "\n",
    "import simple_icd_10_cm as icd\n",
    "\n",
    "import spacy\n",
    "import re\n",
    "\n",
    "from sklearn.feature_extraction.text import CountVectorizer,TfidfVectorizer\n",
    "from sklearn.cluster import KMeans,AgglomerativeClustering,AffinityPropagation,Birch\n",
    "from sklearn.metrics import silhouette_score\n",
    "from sklearn.manifold import TSNE\n",
    "from matplotlib import pyplot as plt\n",
    "\n",
    "from scipy.spatial.distance import pdist\n",
    "from scipy.sparse import csr_matrix\n",
    "from sklearn.metrics import pairwise_distances\n",
    "from sklearn.decomposition import TruncatedSVD\n",
    "\n",
    "import gensim.models\n",
    "from gensim.utils import simple_preprocess\n",
    "from gensim.models.doc2vec import TaggedDocument,Doc2Vec\n",
    "from gensim.models.keyedvectors import KeyedVectors\n",
    "import gensim.downloader as api\n",
    "\n",
    "import collections\n",
    "from IPython.display import clear_output, display\n",
    "\n",
    "from nltk.stem import WordNetLemmatizer"
   ]
  },
  {
   "cell_type": "markdown",
   "metadata": {},
   "source": [
    "### Common Functions"
   ]
  },
  {
   "cell_type": "code",
   "execution_count": 2,
   "metadata": {},
   "outputs": [],
   "source": [
    "nlp = spacy.load(\"en_core_web_md\")\n",
    "all_stopwords = nlp.Defaults.stop_words\n",
    "\n",
    "# Pass a single HOPI record\n",
    "# Returns processed text\n",
    "def transformText(text):\n",
    "    doc = nlp(text)\n",
    "    sent = list()\n",
    "    for token in doc:\n",
    "        w = token.text.lower()\n",
    "        if w in med_dict.keys():\n",
    "            w = med_dict[w]\n",
    "        w = re.sub('[^A-Za-z\\s]+', '', w)\n",
    "        if not(token.is_space) and not(token.is_punct):\n",
    "            sent.append(w)\n",
    "            \n",
    "    sent= [word for word in sent if not word in all_stopwords]\n",
    "    return \" \".join(sent)"
   ]
  },
  {
   "cell_type": "code",
   "execution_count": 3,
   "metadata": {},
   "outputs": [],
   "source": [
    "# Takes comma separated string of ICD-10 codes as input\n",
    "# Returns comma separated ICD-10 codes string for specified level\n",
    "# index = 1 for Level 1\n",
    "# index = 2 for Level 2\n",
    "# index = 3 for Level 3\n",
    "\n",
    "def getAncestors(x,index):\n",
    "    codes = x.split(',')\n",
    "    temp = list()\n",
    "    for c in codes:\n",
    "        i = c.strip()\n",
    "        while(len(i) > 0 and not(icd.is_valid_item(i))):\n",
    "            i = i[:-1]\n",
    "        \n",
    "        if len(i) == 0:\n",
    "            continue \n",
    "        if len(icd.get_ancestors(i)) < index:\n",
    "            temp.append(i)\n",
    "        else:\n",
    "            i = icd.get_ancestors(i)[-index]\n",
    "        temp.append(i)\n",
    "    \n",
    "    \n",
    "    return \",\".join(temp)"
   ]
  },
  {
   "cell_type": "code",
   "execution_count": 53,
   "metadata": {},
   "outputs": [],
   "source": [
    "# Takes array of actual and predicted labels as input\n",
    "# Returns tuple of mean recall, precision and f-score \n",
    "# Set mode parameter other than mean to evaluate a single record\n",
    "def getScores(actual,predicted,mode='mean'):\n",
    "    if mode == 'mean':\n",
    "        recall = []\n",
    "        precision = []\n",
    "        f_score = []\n",
    "\n",
    "        for i in range(actual.shape[0]):\n",
    "            s1 = set(actual[i].split(\",\"))\n",
    "            s2 = set(predicted[i].split(\",\"))\n",
    "\n",
    "            inter = len(s1.intersection(s2))\n",
    "            r = inter/len(s1)\n",
    "            recall.append(r)\n",
    "            p = inter/len(s2)\n",
    "            precision.append(p)\n",
    "\n",
    "            try:\n",
    "                f_score.append(2 * r * p/(r + p))\n",
    "            except:\n",
    "                f_score.append(0)\n",
    "            \n",
    "        test_df['recall'] = recall\n",
    "        test_df['precision'] = precision\n",
    "        test_df['f_score'] = f_score\n",
    "\n",
    "        avg_recall = test_df['recall'].mean()\n",
    "        avg_prec = test_df['precision'].mean()\n",
    "        avg_f_score = test_df['f_score'].mean()\n",
    "        \n",
    "        return (avg_recall,avg_prec,avg_f_score)\n",
    "    else:\n",
    "        s1 = set(actual.split(\",\"))\n",
    "        s2 = set(predicted.split(\",\"))\n",
    "\n",
    "        inter = len(s1.intersection(s2))\n",
    "        r = inter/len(s1)\n",
    "        p = inter/len(s2)\n",
    "        f_score = None\n",
    "        try:\n",
    "            f_score = 2 * r * p/(r + p)\n",
    "        except:\n",
    "            f_score = 0\n",
    "            \n",
    "        return (r,p,f_score)"
   ]
  },
  {
   "cell_type": "markdown",
   "metadata": {},
   "source": [
    "### Approach 1"
   ]
  },
  {
   "cell_type": "markdown",
   "metadata": {},
   "source": [
    "### Approach 2"
   ]
  },
  {
   "cell_type": "markdown",
   "metadata": {},
   "source": [
    "#### Load medical terms dictionary"
   ]
  },
  {
   "cell_type": "code",
   "execution_count": 61,
   "metadata": {},
   "outputs": [],
   "source": [
    "med_dict = pd.read_excel(r'Data\\medicalTermsDictionary (1).xlsx')\n",
    "med_dict = dict(zip(med_dict.Abbreviation, med_dict.Term))"
   ]
  },
  {
   "cell_type": "markdown",
   "metadata": {},
   "source": [
    "##### Prepare ICD-10 Dataframe"
   ]
  },
  {
   "cell_type": "code",
   "execution_count": 62,
   "metadata": {},
   "outputs": [],
   "source": [
    "# Create Dataframe from ICD 10 codes\n",
    "all_codes = icd.get_all_codes(with_dots=True)\n",
    "code_df = pd.DataFrame(all_codes,columns=['code'])"
   ]
  },
  {
   "cell_type": "code",
   "execution_count": 63,
   "metadata": {},
   "outputs": [],
   "source": [
    "# Get description, descendants and ancestors for each code\n",
    "code_df['description'] = code_df['code'].apply(lambda x: icd.get_description(x))\n",
    "code_df['ancestor'] = code_df['code'].apply(lambda x: icd.get_ancestors(x))\n",
    "code_df['descendants'] = code_df['code'].apply(lambda x: icd.get_descendants(x))"
   ]
  },
  {
   "cell_type": "code",
   "execution_count": 64,
   "metadata": {},
   "outputs": [],
   "source": [
    "# Change value of 'l' for different levels\n",
    "# l = 0 for Level 1\n",
    "# l = 1 for Level 2\n",
    "# l = 2 for Level 3\n",
    "\n",
    "level=0\n",
    "filtered = code_df[code_df.apply(lambda x: len(x['ancestor']),axis=1) == level]\n",
    "filtered = filtered.drop_duplicates(['description'])\n",
    "filtered = filtered.reset_index(drop=True)"
   ]
  },
  {
   "cell_type": "code",
   "execution_count": 65,
   "metadata": {},
   "outputs": [],
   "source": [
    "# Run this code if you want to expand the description to include descendants' description\n",
    "for c in filtered.iterrows():\n",
    "    desc = [filtered.loc[c[0]].description]\n",
    "    for d in c[1]['descendants']:\n",
    "        desc.append(icd.get_description(d))\n",
    "    filtered.loc[c[0]].description = \" \".join(desc)"
   ]
  },
  {
   "cell_type": "markdown",
   "metadata": {},
   "source": [
    "#### Load preprocessed data for 20,000 medical records"
   ]
  },
  {
   "cell_type": "code",
   "execution_count": 9,
   "metadata": {},
   "outputs": [
    {
     "data": {
      "text/html": [
       "<div>\n",
       "<style scoped>\n",
       "    .dataframe tbody tr th:only-of-type {\n",
       "        vertical-align: middle;\n",
       "    }\n",
       "\n",
       "    .dataframe tbody tr th {\n",
       "        vertical-align: top;\n",
       "    }\n",
       "\n",
       "    .dataframe thead th {\n",
       "        text-align: right;\n",
       "    }\n",
       "</style>\n",
       "<table border=\"1\" class=\"dataframe\">\n",
       "  <thead>\n",
       "    <tr style=\"text-align: right;\">\n",
       "      <th></th>\n",
       "      <th>Unnamed: 0</th>\n",
       "      <th>ER_NO</th>\n",
       "      <th>AGE_YEARS</th>\n",
       "      <th>TRIAGECOMPLAINT</th>\n",
       "      <th>HOPI_</th>\n",
       "      <th>ED_DX</th>\n",
       "      <th>Code</th>\n",
       "      <th>HOPI_2</th>\n",
       "      <th>Unnamed: 8</th>\n",
       "      <th>Unnamed: 9</th>\n",
       "      <th>HOPI_modified</th>\n",
       "    </tr>\n",
       "  </thead>\n",
       "  <tbody>\n",
       "    <tr>\n",
       "      <th>0</th>\n",
       "      <td>NaN</td>\n",
       "      <td>E001589137</td>\n",
       "      <td>85.0011</td>\n",
       "      <td>Unwell adult</td>\n",
       "      <td>fever since yesterday gernalised body ache\\n\\n...</td>\n",
       "      <td>AGE</td>\n",
       "      <td>A09</td>\n",
       "      <td>fever since yesterday gernalised body ache\\n\\n...</td>\n",
       "      <td>NaN</td>\n",
       "      <td>NaN</td>\n",
       "      <td>fever yesterday gernalised body ache loose sto...</td>\n",
       "    </tr>\n",
       "    <tr>\n",
       "      <th>1</th>\n",
       "      <td>NaN</td>\n",
       "      <td>E001604784</td>\n",
       "      <td>81.9989</td>\n",
       "      <td>Unwell adult</td>\n",
       "      <td>PT IS A 82 YO MALE\\n\\n\\n\\nKC OF IHD, EF 25%\\n\\...</td>\n",
       "      <td>FEVER</td>\n",
       "      <td>R50.9</td>\n",
       "      <td>PT IS A 82 YO MALE\\n\\n\\n\\nKC OF IHD, EF 25%\\n\\...</td>\n",
       "      <td>NaN</td>\n",
       "      <td>NaN</td>\n",
       "      <td>patient  yo male known case ischemic heart dis...</td>\n",
       "    </tr>\n",
       "    <tr>\n",
       "      <th>2</th>\n",
       "      <td>NaN</td>\n",
       "      <td>E001642697</td>\n",
       "      <td>89.9999</td>\n",
       "      <td>Falls,Limb problems</td>\n",
       "      <td>90 year old\\n\\nhypertensive (non compliant)\\n\\...</td>\n",
       "      <td>RTA</td>\n",
       "      <td>V89.2XXA, Y92.488</td>\n",
       "      <td>90 year old\\n\\nhypertensive (non compliant)\\n\\...</td>\n",
       "      <td>NaN</td>\n",
       "      <td>NaN</td>\n",
       "      <td>year old hypertensive non compliant history f...</td>\n",
       "    </tr>\n",
       "    <tr>\n",
       "      <th>3</th>\n",
       "      <td>NaN</td>\n",
       "      <td>E001464239</td>\n",
       "      <td>94.3118</td>\n",
       "      <td>Abdominal pain in adults</td>\n",
       "      <td>K/C HTN taking atenolol, compliant\\n\\npresente...</td>\n",
       "      <td>UTI</td>\n",
       "      <td>N39.0</td>\n",
       "      <td>K/C HTN taking atenolol, compliant\\n\\npresente...</td>\n",
       "      <td>NaN</td>\n",
       "      <td>NaN</td>\n",
       "      <td>k c hypertension taking atenolol compliant pre...</td>\n",
       "    </tr>\n",
       "    <tr>\n",
       "      <th>4</th>\n",
       "      <td>NaN</td>\n",
       "      <td>E001531532</td>\n",
       "      <td>91.0108</td>\n",
       "      <td>Falls,Head injury</td>\n",
       "      <td>91 yr old female \\nk/c HTN , DM\\n\\ncame e c/o\\...</td>\n",
       "      <td>trauma</td>\n",
       "      <td>S09.90XA</td>\n",
       "      <td>91 yr old female \\nk/c HTN , DM\\n\\ncame e c/o\\...</td>\n",
       "      <td>NaN</td>\n",
       "      <td>NaN</td>\n",
       "      <td>yr old female k c hypertension diabetes melli...</td>\n",
       "    </tr>\n",
       "  </tbody>\n",
       "</table>\n",
       "</div>"
      ],
      "text/plain": [
       "  Unnamed: 0       ER_NO  AGE_YEARS           TRIAGECOMPLAINT  \\\n",
       "0        NaN  E001589137    85.0011              Unwell adult   \n",
       "1        NaN  E001604784    81.9989              Unwell adult   \n",
       "2        NaN  E001642697    89.9999       Falls,Limb problems   \n",
       "3        NaN  E001464239    94.3118  Abdominal pain in adults   \n",
       "4        NaN  E001531532    91.0108         Falls,Head injury   \n",
       "\n",
       "                                               HOPI_   ED_DX  \\\n",
       "0  fever since yesterday gernalised body ache\\n\\n...     AGE   \n",
       "1  PT IS A 82 YO MALE\\n\\n\\n\\nKC OF IHD, EF 25%\\n\\...   FEVER   \n",
       "2  90 year old\\n\\nhypertensive (non compliant)\\n\\...     RTA   \n",
       "3  K/C HTN taking atenolol, compliant\\n\\npresente...     UTI   \n",
       "4  91 yr old female \\nk/c HTN , DM\\n\\ncame e c/o\\...  trauma   \n",
       "\n",
       "                Code                                             HOPI_2  \\\n",
       "0                A09  fever since yesterday gernalised body ache\\n\\n...   \n",
       "1              R50.9  PT IS A 82 YO MALE\\n\\n\\n\\nKC OF IHD, EF 25%\\n\\...   \n",
       "2  V89.2XXA, Y92.488  90 year old\\n\\nhypertensive (non compliant)\\n\\...   \n",
       "3              N39.0  K/C HTN taking atenolol, compliant\\n\\npresente...   \n",
       "4           S09.90XA  91 yr old female \\nk/c HTN , DM\\n\\ncame e c/o\\...   \n",
       "\n",
       "  Unnamed: 8 Unnamed: 9                                      HOPI_modified  \n",
       "0        NaN        NaN  fever yesterday gernalised body ache loose sto...  \n",
       "1        NaN        NaN  patient  yo male known case ischemic heart dis...  \n",
       "2        NaN        NaN   year old hypertensive non compliant history f...  \n",
       "3        NaN        NaN  k c hypertension taking atenolol compliant pre...  \n",
       "4        NaN        NaN   yr old female k c hypertension diabetes melli...  "
      ]
     },
     "execution_count": 9,
     "metadata": {},
     "output_type": "execute_result"
    }
   ],
   "source": [
    "df = pd.read_excel(r'Data/data.xlsx')\n",
    "df.head()"
   ]
  },
  {
   "cell_type": "markdown",
   "metadata": {},
   "source": [
    "##### Load and Preprocess Golden Dataset"
   ]
  },
  {
   "cell_type": "code",
   "execution_count": 66,
   "metadata": {},
   "outputs": [],
   "source": [
    "test_df = pd.read_excel(r'Data\\Sample_HOPI.xlsx')"
   ]
  },
  {
   "cell_type": "code",
   "execution_count": 67,
   "metadata": {},
   "outputs": [],
   "source": [
    "modified = test_df['hopi_'].apply(lambda x: transformText(x))\n",
    "test_df['HOPI_modified'] = modified"
   ]
  },
  {
   "cell_type": "code",
   "execution_count": 68,
   "metadata": {},
   "outputs": [
    {
     "data": {
      "text/html": [
       "<div>\n",
       "<style scoped>\n",
       "    .dataframe tbody tr th:only-of-type {\n",
       "        vertical-align: middle;\n",
       "    }\n",
       "\n",
       "    .dataframe tbody tr th {\n",
       "        vertical-align: top;\n",
       "    }\n",
       "\n",
       "    .dataframe thead th {\n",
       "        text-align: right;\n",
       "    }\n",
       "</style>\n",
       "<table border=\"1\" class=\"dataframe\">\n",
       "  <thead>\n",
       "    <tr style=\"text-align: right;\">\n",
       "      <th></th>\n",
       "      <th>index</th>\n",
       "      <th>mr_code</th>\n",
       "      <th>er_no</th>\n",
       "      <th>age_years</th>\n",
       "      <th>triagecomplaint</th>\n",
       "      <th>hopi_</th>\n",
       "      <th>ed_dx</th>\n",
       "      <th>code</th>\n",
       "      <th>h</th>\n",
       "      <th>HOPI_modified</th>\n",
       "    </tr>\n",
       "  </thead>\n",
       "  <tbody>\n",
       "    <tr>\n",
       "      <th>0</th>\n",
       "      <td>0</td>\n",
       "      <td>10190001490</td>\n",
       "      <td>E001400336</td>\n",
       "      <td>32.0019</td>\n",
       "      <td>Unwell adult</td>\n",
       "      <td>32YR OLD M \\n\\nC/O--FEVER--SINCE YESTERDAY \\nV...</td>\n",
       "      <td>RTI/CONSTIPATION</td>\n",
       "      <td>R50.9, R11.10, R52, M54.9, R05.9, K59.00</td>\n",
       "      <td>32YR OLD M \\n\\nC/O--FEVER--SINCE YESTERDAY \\nV...</td>\n",
       "      <td>yr old m c o fever yesterday vomiting episode ...</td>\n",
       "    </tr>\n",
       "    <tr>\n",
       "      <th>1</th>\n",
       "      <td>1</td>\n",
       "      <td>86180009581</td>\n",
       "      <td>E001404472</td>\n",
       "      <td>40.1911</td>\n",
       "      <td>Pregnancy</td>\n",
       "      <td>g6p4+1   ( 2nd marriage) svd\\n\\ncurrent preg i...</td>\n",
       "      <td>31 wk preg came in er  with generalised body w...</td>\n",
       "      <td>O09.293, Z3A.31, O99.891, R53.1</td>\n",
       "      <td>g6p4+1   ( 2nd marriage) svd\\n\\ncurrent preg i...</td>\n",
       "      <td>gp   nd marriage spontaneous vaginal delivery ...</td>\n",
       "    </tr>\n",
       "    <tr>\n",
       "      <th>2</th>\n",
       "      <td>2</td>\n",
       "      <td>10190005384</td>\n",
       "      <td>E001404582</td>\n",
       "      <td>90.0862</td>\n",
       "      <td>Unwell adult</td>\n",
       "      <td>nkcm \\nhx of cva several years \\nlft sided wea...</td>\n",
       "      <td>infected bed sore / htn</td>\n",
       "      <td>I69.398, M62.81, L89.321, L89.150</td>\n",
       "      <td>nkcm \\nhx of cva several years \\nlft sided wea...</td>\n",
       "      <td>No known comorbidities history cerebral vascul...</td>\n",
       "    </tr>\n",
       "    <tr>\n",
       "      <th>3</th>\n",
       "      <td>3</td>\n",
       "      <td>10120025208</td>\n",
       "      <td>E001405244</td>\n",
       "      <td>69.5342</td>\n",
       "      <td>Urinary problems</td>\n",
       "      <td>nkcm \\nh/o turp - 1 year back \\nradical cystec...</td>\n",
       "      <td>bleeding per urethra</td>\n",
       "      <td>Z85.51, N36.8</td>\n",
       "      <td>nkcm \\nh/o turp - 1 year back \\nradical cystec...</td>\n",
       "      <td>No known comorbidities h o turp  year radical ...</td>\n",
       "    </tr>\n",
       "    <tr>\n",
       "      <th>4</th>\n",
       "      <td>4</td>\n",
       "      <td>10190006313</td>\n",
       "      <td>E001405573</td>\n",
       "      <td>70.0006</td>\n",
       "      <td>Limb problems</td>\n",
       "      <td>kc of HTN, on oral meds, compliant\\n\\nhx of fa...</td>\n",
       "      <td>PUBIC RAMUS FRACTURE</td>\n",
       "      <td>I10, W01.0XXA</td>\n",
       "      <td>kc of HTN, on oral meds, compliant\\n\\nhx of fa...</td>\n",
       "      <td>known case hypertension oral meds compliant hi...</td>\n",
       "    </tr>\n",
       "  </tbody>\n",
       "</table>\n",
       "</div>"
      ],
      "text/plain": [
       "   index      mr_code       er_no  age_years   triagecomplaint  \\\n",
       "0      0  10190001490  E001400336    32.0019      Unwell adult   \n",
       "1      1  86180009581  E001404472    40.1911         Pregnancy   \n",
       "2      2  10190005384  E001404582    90.0862      Unwell adult   \n",
       "3      3  10120025208  E001405244    69.5342  Urinary problems   \n",
       "4      4  10190006313  E001405573    70.0006     Limb problems   \n",
       "\n",
       "                                               hopi_  \\\n",
       "0  32YR OLD M \\n\\nC/O--FEVER--SINCE YESTERDAY \\nV...   \n",
       "1  g6p4+1   ( 2nd marriage) svd\\n\\ncurrent preg i...   \n",
       "2  nkcm \\nhx of cva several years \\nlft sided wea...   \n",
       "3  nkcm \\nh/o turp - 1 year back \\nradical cystec...   \n",
       "4  kc of HTN, on oral meds, compliant\\n\\nhx of fa...   \n",
       "\n",
       "                                               ed_dx  \\\n",
       "0                                   RTI/CONSTIPATION   \n",
       "1  31 wk preg came in er  with generalised body w...   \n",
       "2                            infected bed sore / htn   \n",
       "3                               bleeding per urethra   \n",
       "4                               PUBIC RAMUS FRACTURE   \n",
       "\n",
       "                                       code  \\\n",
       "0  R50.9, R11.10, R52, M54.9, R05.9, K59.00   \n",
       "1           O09.293, Z3A.31, O99.891, R53.1   \n",
       "2         I69.398, M62.81, L89.321, L89.150   \n",
       "3                             Z85.51, N36.8   \n",
       "4                             I10, W01.0XXA   \n",
       "\n",
       "                                                   h  \\\n",
       "0  32YR OLD M \\n\\nC/O--FEVER--SINCE YESTERDAY \\nV...   \n",
       "1  g6p4+1   ( 2nd marriage) svd\\n\\ncurrent preg i...   \n",
       "2  nkcm \\nhx of cva several years \\nlft sided wea...   \n",
       "3  nkcm \\nh/o turp - 1 year back \\nradical cystec...   \n",
       "4  kc of HTN, on oral meds, compliant\\n\\nhx of fa...   \n",
       "\n",
       "                                       HOPI_modified  \n",
       "0  yr old m c o fever yesterday vomiting episode ...  \n",
       "1  gp   nd marriage spontaneous vaginal delivery ...  \n",
       "2  No known comorbidities history cerebral vascul...  \n",
       "3  No known comorbidities h o turp  year radical ...  \n",
       "4  known case hypertension oral meds compliant hi...  "
      ]
     },
     "execution_count": 68,
     "metadata": {},
     "output_type": "execute_result"
    }
   ],
   "source": [
    "test_df = test_df[test_df['HOPI_modified'].notna()]\n",
    "test_df = test_df[test_df['code'].notna()]\n",
    "test_df = test_df.reset_index()\n",
    "test_df.head()"
   ]
  },
  {
   "cell_type": "markdown",
   "metadata": {},
   "source": [
    "##### Transform codes"
   ]
  },
  {
   "cell_type": "code",
   "execution_count": 70,
   "metadata": {},
   "outputs": [
    {
     "data": {
      "text/html": [
       "<div>\n",
       "<style scoped>\n",
       "    .dataframe tbody tr th:only-of-type {\n",
       "        vertical-align: middle;\n",
       "    }\n",
       "\n",
       "    .dataframe tbody tr th {\n",
       "        vertical-align: top;\n",
       "    }\n",
       "\n",
       "    .dataframe thead th {\n",
       "        text-align: right;\n",
       "    }\n",
       "</style>\n",
       "<table border=\"1\" class=\"dataframe\">\n",
       "  <thead>\n",
       "    <tr style=\"text-align: right;\">\n",
       "      <th></th>\n",
       "      <th>index</th>\n",
       "      <th>mr_code</th>\n",
       "      <th>er_no</th>\n",
       "      <th>age_years</th>\n",
       "      <th>triagecomplaint</th>\n",
       "      <th>hopi_</th>\n",
       "      <th>ed_dx</th>\n",
       "      <th>code</th>\n",
       "      <th>h</th>\n",
       "      <th>HOPI_modified</th>\n",
       "      <th>code_modified</th>\n",
       "    </tr>\n",
       "  </thead>\n",
       "  <tbody>\n",
       "    <tr>\n",
       "      <th>0</th>\n",
       "      <td>0</td>\n",
       "      <td>10190001490</td>\n",
       "      <td>E001400336</td>\n",
       "      <td>32.0019</td>\n",
       "      <td>Unwell adult</td>\n",
       "      <td>32YR OLD M \\n\\nC/O--FEVER--SINCE YESTERDAY \\nV...</td>\n",
       "      <td>RTI/CONSTIPATION</td>\n",
       "      <td>R50.9, R11.10, R52, M54.9, R05.9, K59.00</td>\n",
       "      <td>32YR OLD M \\n\\nC/O--FEVER--SINCE YESTERDAY \\nV...</td>\n",
       "      <td>yr old m c o fever yesterday vomiting episode ...</td>\n",
       "      <td>18,18,18,13,18,11</td>\n",
       "    </tr>\n",
       "    <tr>\n",
       "      <th>1</th>\n",
       "      <td>1</td>\n",
       "      <td>86180009581</td>\n",
       "      <td>E001404472</td>\n",
       "      <td>40.1911</td>\n",
       "      <td>Pregnancy</td>\n",
       "      <td>g6p4+1   ( 2nd marriage) svd\\n\\ncurrent preg i...</td>\n",
       "      <td>31 wk preg came in er  with generalised body w...</td>\n",
       "      <td>O09.293, Z3A.31, O99.891, R53.1</td>\n",
       "      <td>g6p4+1   ( 2nd marriage) svd\\n\\ncurrent preg i...</td>\n",
       "      <td>gp   nd marriage spontaneous vaginal delivery ...</td>\n",
       "      <td>15,21,15,18</td>\n",
       "    </tr>\n",
       "    <tr>\n",
       "      <th>2</th>\n",
       "      <td>2</td>\n",
       "      <td>10190005384</td>\n",
       "      <td>E001404582</td>\n",
       "      <td>90.0862</td>\n",
       "      <td>Unwell adult</td>\n",
       "      <td>nkcm \\nhx of cva several years \\nlft sided wea...</td>\n",
       "      <td>infected bed sore / htn</td>\n",
       "      <td>I69.398, M62.81, L89.321, L89.150</td>\n",
       "      <td>nkcm \\nhx of cva several years \\nlft sided wea...</td>\n",
       "      <td>No known comorbidities history cerebral vascul...</td>\n",
       "      <td>9,13,12,12</td>\n",
       "    </tr>\n",
       "    <tr>\n",
       "      <th>3</th>\n",
       "      <td>3</td>\n",
       "      <td>10120025208</td>\n",
       "      <td>E001405244</td>\n",
       "      <td>69.5342</td>\n",
       "      <td>Urinary problems</td>\n",
       "      <td>nkcm \\nh/o turp - 1 year back \\nradical cystec...</td>\n",
       "      <td>bleeding per urethra</td>\n",
       "      <td>Z85.51, N36.8</td>\n",
       "      <td>nkcm \\nh/o turp - 1 year back \\nradical cystec...</td>\n",
       "      <td>No known comorbidities h o turp  year radical ...</td>\n",
       "      <td>21,14</td>\n",
       "    </tr>\n",
       "    <tr>\n",
       "      <th>4</th>\n",
       "      <td>4</td>\n",
       "      <td>10190006313</td>\n",
       "      <td>E001405573</td>\n",
       "      <td>70.0006</td>\n",
       "      <td>Limb problems</td>\n",
       "      <td>kc of HTN, on oral meds, compliant\\n\\nhx of fa...</td>\n",
       "      <td>PUBIC RAMUS FRACTURE</td>\n",
       "      <td>I10, W01.0XXA</td>\n",
       "      <td>kc of HTN, on oral meds, compliant\\n\\nhx of fa...</td>\n",
       "      <td>known case hypertension oral meds compliant hi...</td>\n",
       "      <td>9,20</td>\n",
       "    </tr>\n",
       "  </tbody>\n",
       "</table>\n",
       "</div>"
      ],
      "text/plain": [
       "   index      mr_code       er_no  age_years   triagecomplaint  \\\n",
       "0      0  10190001490  E001400336    32.0019      Unwell adult   \n",
       "1      1  86180009581  E001404472    40.1911         Pregnancy   \n",
       "2      2  10190005384  E001404582    90.0862      Unwell adult   \n",
       "3      3  10120025208  E001405244    69.5342  Urinary problems   \n",
       "4      4  10190006313  E001405573    70.0006     Limb problems   \n",
       "\n",
       "                                               hopi_  \\\n",
       "0  32YR OLD M \\n\\nC/O--FEVER--SINCE YESTERDAY \\nV...   \n",
       "1  g6p4+1   ( 2nd marriage) svd\\n\\ncurrent preg i...   \n",
       "2  nkcm \\nhx of cva several years \\nlft sided wea...   \n",
       "3  nkcm \\nh/o turp - 1 year back \\nradical cystec...   \n",
       "4  kc of HTN, on oral meds, compliant\\n\\nhx of fa...   \n",
       "\n",
       "                                               ed_dx  \\\n",
       "0                                   RTI/CONSTIPATION   \n",
       "1  31 wk preg came in er  with generalised body w...   \n",
       "2                            infected bed sore / htn   \n",
       "3                               bleeding per urethra   \n",
       "4                               PUBIC RAMUS FRACTURE   \n",
       "\n",
       "                                       code  \\\n",
       "0  R50.9, R11.10, R52, M54.9, R05.9, K59.00   \n",
       "1           O09.293, Z3A.31, O99.891, R53.1   \n",
       "2         I69.398, M62.81, L89.321, L89.150   \n",
       "3                             Z85.51, N36.8   \n",
       "4                             I10, W01.0XXA   \n",
       "\n",
       "                                                   h  \\\n",
       "0  32YR OLD M \\n\\nC/O--FEVER--SINCE YESTERDAY \\nV...   \n",
       "1  g6p4+1   ( 2nd marriage) svd\\n\\ncurrent preg i...   \n",
       "2  nkcm \\nhx of cva several years \\nlft sided wea...   \n",
       "3  nkcm \\nh/o turp - 1 year back \\nradical cystec...   \n",
       "4  kc of HTN, on oral meds, compliant\\n\\nhx of fa...   \n",
       "\n",
       "                                       HOPI_modified      code_modified  \n",
       "0  yr old m c o fever yesterday vomiting episode ...  18,18,18,13,18,11  \n",
       "1  gp   nd marriage spontaneous vaginal delivery ...        15,21,15,18  \n",
       "2  No known comorbidities history cerebral vascul...         9,13,12,12  \n",
       "3  No known comorbidities h o turp  year radical ...              21,14  \n",
       "4  known case hypertension oral meds compliant hi...               9,20  "
      ]
     },
     "execution_count": 70,
     "metadata": {},
     "output_type": "execute_result"
    }
   ],
   "source": [
    "test_df['code_modified'] = test_df['code'].apply(lambda x: getAncestors(x,level+1))\n",
    "test_df.head()"
   ]
  },
  {
   "cell_type": "markdown",
   "metadata": {},
   "source": [
    "##### Create Feature Vector"
   ]
  },
  {
   "cell_type": "code",
   "execution_count": 71,
   "metadata": {},
   "outputs": [],
   "source": [
    "train_data = pd.concat([df['HOPI_modified'],filtered['description']])"
   ]
  },
  {
   "cell_type": "code",
   "execution_count": 72,
   "metadata": {},
   "outputs": [
    {
     "data": {
      "text/plain": [
       "TfidfVectorizer(stop_words='english')"
      ]
     },
     "execution_count": 72,
     "metadata": {},
     "output_type": "execute_result"
    }
   ],
   "source": [
    "vectorizer = TfidfVectorizer(stop_words=\"english\")\n",
    "vectorizer.fit(train_data)"
   ]
  },
  {
   "cell_type": "code",
   "execution_count": 73,
   "metadata": {},
   "outputs": [],
   "source": [
    "test_vectors = vectorizer.transform(filtered['description']).toarray()"
   ]
  },
  {
   "cell_type": "code",
   "execution_count": 74,
   "metadata": {},
   "outputs": [],
   "source": [
    "doc_vectors = vectorizer.transform(test_df['HOPI_modified']).toarray()"
   ]
  },
  {
   "cell_type": "code",
   "execution_count": 75,
   "metadata": {},
   "outputs": [],
   "source": [
    "doc_vectors = csr_matrix(doc_vectors)\n",
    "tsvd = TruncatedSVD(n_components=5)\n",
    "_ = tsvd.fit(doc_vectors)\n",
    "\n",
    "doc_vectors = tsvd.transform(doc_vectors)\n",
    "test_vectors = tsvd.transform(csr_matrix(test_vectors))"
   ]
  },
  {
   "cell_type": "markdown",
   "metadata": {},
   "source": [
    "##### Predict"
   ]
  },
  {
   "cell_type": "code",
   "execution_count": 76,
   "metadata": {},
   "outputs": [],
   "source": [
    "dist = pairwise_distances(doc_vectors,test_vectors,metric='euclidean')"
   ]
  },
  {
   "cell_type": "code",
   "execution_count": 77,
   "metadata": {},
   "outputs": [],
   "source": [
    "def get_labels(i):\n",
    "    n=2 # suggested labels count\n",
    "    nearest = list(zip(np.sort(dist)[i,:n],np.argsort(dist)[i,:n]))\n",
    "\n",
    "\n",
    "    temp = list()\n",
    "    for j in nearest:\n",
    "        code = filtered['code'][j[1]]\n",
    "        temp.append(code)\n",
    "        # print(code, icd.get_description(code),\"Score:\",j[0])\n",
    "    \n",
    "    return \",\".join(temp)\n",
    "\n",
    "test_df['predicted'] = list(map(get_labels,list(range(0,test_df.shape[0]))))"
   ]
  },
  {
   "cell_type": "code",
   "execution_count": 78,
   "metadata": {},
   "outputs": [
    {
     "name": "stdout",
     "output_type": "stream",
     "text": [
      "Recall: 0.4448250728862974\n",
      "Precision: 0.5025510204081632\n",
      "F-Score: 0.4422942986718499\n"
     ]
    }
   ],
   "source": [
    "avg_recall,avg_prec,avg_f_score = getScores(test_df['code_modified'],test_df['predicted'])\n",
    "print(\"Recall: {}\\nPrecision: {}\\nF-Score: {}\".format(avg_recall,avg_prec,avg_f_score))"
   ]
  },
  {
   "cell_type": "code",
   "execution_count": 80,
   "metadata": {},
   "outputs": [
    {
     "name": "stdout",
     "output_type": "stream",
     "text": [
      "HOPI:  G3P2+0 prev 1 c/s  9+ weeks came with pv spotting    pt vitally stable     on Pa   abd soft     on p/s   no bleeding observed     pad was dry     last outside scan of 5 weeks , no cardiac activity     D/W DR RAHEELA   plan   tab duphestan 10mg Bd   tab nospa sos  reassure pt   warning signs explained if any do come in Er   \n",
      "\n",
      "Actual Codes:  15,21,15\n",
      "\n",
      "15 - Pregnancy, childbirth and the puerperium (O00-O9A) (0.4)\n",
      "14 - Diseases of the genitourinary system (N00-N99) (0.4)\n",
      "\n",
      "\n",
      "Precision: 0.5\n",
      "Recall: 0.5\n",
      "f_score: 0.5\n"
     ]
    }
   ],
   "source": [
    "i=20 # Record index\n",
    "n=2 # Suggested labels count\n",
    "nearest = list(zip(np.sort(dist)[i,:n],np.argsort(dist)[i,:n]))\n",
    "\n",
    "\n",
    "print('HOPI: ',test_df['hopi_'][i].replace(\"\\n\",\" \"),end=\"\\n\\n\")\n",
    "print(\"Actual Codes: \",test_df[\"code_modified\"][i],end=\"\\n\\n\")\n",
    "\n",
    "for j in nearest:\n",
    "    code = filtered['code'][j[1]]\n",
    "    print(\"{} - {} ({})\".format(code,icd.get_description(code),round(j[0],2)))\n",
    "    \n",
    "r,p,f_score = getScores(test_df['code_modified'][i],test_df['predicted'][i],mode=None)  \n",
    "print(\"\\n\\nPrecision: {}\\nRecall: {}\\nf_score: {}\".format(p,r,f_score))"
   ]
  }
 ],
 "metadata": {
  "interpreter": {
   "hash": "745acbd60b3d3a97c5945352b8ea4157d78b838f777f5ff9015d2ad09d6a6d28"
  },
  "kernelspec": {
   "display_name": "Python 3",
   "language": "python",
   "name": "python3"
  },
  "language_info": {
   "codemirror_mode": {
    "name": "ipython",
    "version": 3
   },
   "file_extension": ".py",
   "mimetype": "text/x-python",
   "name": "python",
   "nbconvert_exporter": "python",
   "pygments_lexer": "ipython3",
   "version": "3.7.4"
  }
 },
 "nbformat": 4,
 "nbformat_minor": 2
}
