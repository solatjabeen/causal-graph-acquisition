{
 "cells": [
  {
   "cell_type": "markdown",
   "metadata": {},
   "source": [
    "# Use kernel 'lasttry' to execute this file \n",
    "# Import necessary libraries."
   ]
  },
  {
   "cell_type": "code",
   "execution_count": 2,
   "metadata": {
    "scrolled": true
   },
   "outputs": [
    {
     "data": {
      "text/plain": [
       "<spacy.lang.en.English at 0x2fb0ac95fc8>"
      ]
     },
     "execution_count": 2,
     "metadata": {},
     "output_type": "execute_result"
    }
   ],
   "source": [
    "import spacy\n",
    "import textacy\n",
    "import textacy.preprocessing\n",
    "import neuralcoref\n",
    "from nltk import sent_tokenize, word_tokenize, pos_tag\n",
    "\n",
    "nlp = spacy.load(\"en_core_web_sm\")\n",
    "neuralcoref.add_to_pipe(nlp)"
   ]
  },
  {
   "cell_type": "markdown",
   "metadata": {},
   "source": [
    "# Read text file and preprocess."
   ]
  },
  {
   "cell_type": "code",
   "execution_count": 4,
   "metadata": {
    "scrolled": true
   },
   "outputs": [
    {
     "name": "stdout",
     "output_type": "stream",
     "text": [
      "Original Narrative:\n",
      "excessive overthinking leads to insomnia. stress caused insomnia. insomnia causes stress. stress results in insomnia. stress caused my insomnia. overthinking can increase anxiety. overthinking can cause insomnia. stress is a reason of my insomnia. stress results to insomnia.\n",
      "Extracted Coreferences:\n",
      "[my insomnia: [my insomnia, my insomnia]]\n",
      "\n",
      "\n",
      "Narrarive after resolving coreferences:\n",
      "excessive overthinking leads to insomnia. stress caused insomnia. insomnia causes stress. stress results in insomnia. stress caused my insomnia. overthinking can increase anxiety. overthinking can cause insomnia. stress is a reason of my insomnia. stress results to insomnia.\n",
      "\n",
      "NLTK Sentences:\n",
      "\n",
      "excessive overthinking leads to insomnia.\n",
      "stress caused insomnia.\n",
      "insomnia causes stress.\n",
      "stress results in insomnia.\n",
      "stress caused my insomnia.\n",
      "overthinking can increase anxiety.\n",
      "overthinking can cause insomnia.\n",
      "stress is a reason of my insomnia.\n",
      "stress results to insomnia.\n"
     ]
    }
   ],
   "source": [
    "file_name = './Text/Simplified Medical Text.txt'\n",
    "narrative = open(file_name, encoding=\"utf8\").read()\n",
    "\n",
    "narrative = textacy.preprocessing.normalize_quotation_marks(narrative)\n",
    "narrative = narrative.lower()\n",
    "narrative = nlp(narrative)\n",
    "\n",
    "print('Original Narrative:')\n",
    "print(narrative)\n",
    "print('Extracted Coreferences:')\n",
    "print(narrative._.coref_clusters)\n",
    "print('\\n')\n",
    "narrative = narrative._.coref_resolved\n",
    "print('Narrarive after resolving coreferences:')\n",
    "print(narrative)\n",
    "\n",
    "raw_sentences = sent_tokenize(narrative)\n",
    "\n",
    "output_file = open('./Text/AfterNeuralcoref.txt', 'w')\n",
    "\n",
    "print('\\nNLTK Sentences:\\n')\n",
    "for sent in raw_sentences:\n",
    "    print(sent)\n",
    "    output_file.write(sent + '\\n')\n",
    "\n",
    "output_file.close()"
   ]
  }
 ],
 "metadata": {
  "interpreter": {
   "hash": "b2bbca7b25589987bc69e95430193d6372f81759d34e6ca1eac7aad3047d77e5"
  },
  "kernelspec": {
   "display_name": "Python 3 (ipykernel)",
   "language": "python",
   "name": "python3"
  },
  "language_info": {
   "codemirror_mode": {
    "name": "ipython",
    "version": 3
   },
   "file_extension": ".py",
   "mimetype": "text/x-python",
   "name": "python",
   "nbconvert_exporter": "python",
   "pygments_lexer": "ipython3",
   "version": "3.7.16"
  }
 },
 "nbformat": 4,
 "nbformat_minor": 2
}
