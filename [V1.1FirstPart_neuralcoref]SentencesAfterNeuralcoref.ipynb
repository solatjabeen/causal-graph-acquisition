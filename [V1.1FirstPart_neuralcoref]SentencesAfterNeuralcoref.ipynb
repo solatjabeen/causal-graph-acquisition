{
 "cells": [
  {
   "cell_type": "markdown",
   "metadata": {},
   "source": [
    "# Use kernel 'lasttry' to execute this file \n",
    "# Import necessary libraries."
   ]
  },
  {
   "cell_type": "code",
   "execution_count": 1,
   "metadata": {
    "scrolled": true
   },
   "outputs": [
    {
     "data": {
      "text/plain": [
       "<spacy.lang.en.English at 0x1d5a72e88c8>"
      ]
     },
     "execution_count": 1,
     "metadata": {},
     "output_type": "execute_result"
    }
   ],
   "source": [
    "import spacy\n",
    "import textacy\n",
    "import textacy.preprocessing\n",
    "import neuralcoref\n",
    "from nltk import sent_tokenize, word_tokenize, pos_tag\n",
    "\n",
    "nlp = spacy.load(\"en_core_web_sm\")\n",
    "neuralcoref.add_to_pipe(nlp)"
   ]
  },
  {
   "cell_type": "markdown",
   "metadata": {},
   "source": [
    "# Read text file and preprocess."
   ]
  },
  {
   "cell_type": "code",
   "execution_count": 2,
   "metadata": {
    "scrolled": true
   },
   "outputs": [
    {
     "name": "stdout",
     "output_type": "stream",
     "text": [
      "Original Narrative:\n",
      "institutional weakness hindered development of the agriculture sector. land rights disagreements are a major source of conflict. this conflict discourages farmers from expanding production. this conflict discourages traders from building marketing infrastructure. this conflict discourages retailers from building marketing infrastructure. the low level of public investment shows that no irrigation infrastructure exists. the low level of public investment shows that only 2 percent of south sudan's limited road network is paved. roads are poorly maintained. roads are not repaired. roads are completely washed out during the rainy season. inadequate transportation infrastructure has resulted in less transport to markets. moderate to heavy rainfall is expected to continue during the next two weeks across sudan moderate to heavy rainfall is expected to continue during the next two weeks across south sudan. moderate to heavy rainfall is expected to continue during the next two weeks across uganda. moderate to heavy rainfall is expected to continue during the next two weeks across northern kenya. moderate to heavy rainfall is expected to continue during the next two weeks across western/northern ethiopia. persistent heavy rains in the ethiopian highlands cause flooding in flood prone areas. persistent heavy rains in the eastern sudan cause flooding in flood-prone areas. persistent heavy rains in the south sudan cause flooding in flood-prone areas. highly saturated soils cause flooding in flood-prone areas. rain caused floods. floods have displaced more than 100,000 people in south sudan. floods raise fears. floods devastatingly impact on food security in the war-torn nation.\n",
      "Extracted Coreferences:\n",
      "[conflict: [conflict, this conflict, this conflict, this conflict], the low level of public investment: [the low level of public investment, the low level of public investment], south sudan: [south sudan, south sudan, the eastern sudan, the south sudan, south sudan, the war-torn nation], the next two weeks across south sudan: [the next two weeks across south sudan, the next two weeks, the next two weeks across northern kenya, the next two weeks across western/northern ethiopia], flood-prone areas: [flood-prone areas, flood-prone areas]]\n",
      "\n",
      "\n",
      "Narrarive after resolving coreferences:\n",
      "institutional weakness hindered development of the agriculture sector. land rights disagreements are a major source of conflict. conflict discourages farmers from expanding production. conflict discourages traders from building marketing infrastructure. conflict discourages retailers from building marketing infrastructure. the low level of public investment shows that no irrigation infrastructure exists. the low level of public investment shows that only 2 percent of south sudan's limited road network is paved. roads are poorly maintained. roads are not repaired. roads are completely washed out during the rainy season. inadequate transportation infrastructure has resulted in less transport to markets. moderate to heavy rainfall is expected to continue during the next two weeks across sudan moderate to heavy rainfall is expected to continue during the next two weeks across south sudan. moderate to heavy rainfall is expected to continue during the next two weeks across south sudan across uganda. moderate to heavy rainfall is expected to continue during the next two weeks across south sudan. moderate to heavy rainfall is expected to continue during the next two weeks across south sudan. persistent heavy rains in the ethiopian highlands cause flooding in flood prone areas. persistent heavy rains in south sudan cause flooding in flood-prone areas. persistent heavy rains in south sudan cause flooding in flood-prone areas. highly saturated soils cause flooding in flood-prone areas. rain caused floods. floods have displaced more than 100,000 people in south sudan. floods raise fears. floods devastatingly impact on food security in south sudan.\n",
      "\n",
      "NLTK Sentences:\n",
      "\n",
      "institutional weakness hindered development of the agriculture sector.\n",
      "land rights disagreements are a major source of conflict.\n",
      "conflict discourages farmers from expanding production.\n",
      "conflict discourages traders from building marketing infrastructure.\n",
      "conflict discourages retailers from building marketing infrastructure.\n",
      "the low level of public investment shows that no irrigation infrastructure exists.\n",
      "the low level of public investment shows that only 2 percent of south sudan's limited road network is paved.\n",
      "roads are poorly maintained.\n",
      "roads are not repaired.\n",
      "roads are completely washed out during the rainy season.\n",
      "inadequate transportation infrastructure has resulted in less transport to markets.\n",
      "moderate to heavy rainfall is expected to continue during the next two weeks across sudan moderate to heavy rainfall is expected to continue during the next two weeks across south sudan.\n",
      "moderate to heavy rainfall is expected to continue during the next two weeks across south sudan across uganda.\n",
      "moderate to heavy rainfall is expected to continue during the next two weeks across south sudan.\n",
      "moderate to heavy rainfall is expected to continue during the next two weeks across south sudan.\n",
      "persistent heavy rains in the ethiopian highlands cause flooding in flood prone areas.\n",
      "persistent heavy rains in south sudan cause flooding in flood-prone areas.\n",
      "persistent heavy rains in south sudan cause flooding in flood-prone areas.\n",
      "highly saturated soils cause flooding in flood-prone areas.\n",
      "rain caused floods.\n",
      "floods have displaced more than 100,000 people in south sudan.\n",
      "floods raise fears.\n",
      "floods devastatingly impact on food security in south sudan.\n"
     ]
    }
   ],
   "source": [
    "file_name = './Text/Simplified Food Insecurity.txt'\n",
    "narrative = open(file_name, encoding=\"utf8\").read()\n",
    "\n",
    "narrative = textacy.preprocessing.normalize_quotation_marks(narrative)\n",
    "narrative = narrative.lower()\n",
    "narrative = nlp(narrative)\n",
    "\n",
    "print('Original Narrative:')\n",
    "print(narrative)\n",
    "print('Extracted Coreferences:')\n",
    "print(narrative._.coref_clusters)\n",
    "print('\\n')\n",
    "narrative = narrative._.coref_resolved\n",
    "print('Narrarive after resolving coreferences:')\n",
    "print(narrative)\n",
    "\n",
    "raw_sentences = sent_tokenize(narrative)\n",
    "\n",
    "output_file = open('./Text/AfterNeuralcoref.txt', 'w')\n",
    "\n",
    "print('\\nNLTK Sentences:\\n')\n",
    "for sent in raw_sentences:\n",
    "    print(sent)\n",
    "    output_file.write(sent + '\\n')\n",
    "\n",
    "output_file.close()"
   ]
  }
 ],
 "metadata": {
  "interpreter": {
   "hash": "b2bbca7b25589987bc69e95430193d6372f81759d34e6ca1eac7aad3047d77e5"
  },
  "kernelspec": {
   "display_name": "Python 3 (ipykernel)",
   "language": "python",
   "name": "python3"
  },
  "language_info": {
   "codemirror_mode": {
    "name": "ipython",
    "version": 3
   },
   "file_extension": ".py",
   "mimetype": "text/x-python",
   "name": "python",
   "nbconvert_exporter": "python",
   "pygments_lexer": "ipython3",
   "version": "3.7.16"
  }
 },
 "nbformat": 4,
 "nbformat_minor": 2
}
