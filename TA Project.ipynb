{
 "cells": [
  {
   "cell_type": "markdown",
   "metadata": {},
   "source": [
    "# Cell No. 1: Import necessary libraries."
   ]
  },
  {
   "cell_type": "code",
   "execution_count": 1,
   "metadata": {},
   "outputs": [
    {
     "name": "stderr",
     "output_type": "stream",
     "text": [
      "C:\\Users\\hp\\AppData\\Roaming\\Python\\Python37\\site-packages\\numpy\\_distributor_init.py:32: UserWarning: loaded more than 1 DLL from .libs:\n",
      "C:\\Users\\hp\\AppData\\Roaming\\Python\\Python37\\site-packages\\numpy\\.libs\\libopenblas.GK7GX5KEQ4F6UYO3P26ULGBQYHGQO7J4.gfortran-win_amd64.dll\n",
      "C:\\Users\\hp\\AppData\\Roaming\\Python\\Python37\\site-packages\\numpy\\.libs\\libopenblas.WCDJNK7YVMPZQ2ME2ZZHJJRJ3JIKNDB7.gfortran-win_amd64.dll\n",
      "  stacklevel=1)\n"
     ]
    },
    {
     "data": {
      "text/plain": [
       "<spacy.lang.en.English at 0x1ff61209f48>"
      ]
     },
     "execution_count": 1,
     "metadata": {},
     "output_type": "execute_result"
    }
   ],
   "source": [
    "import spacy\n",
    "import textacy\n",
    "import textacy.preprocessing\n",
    "import textacy.resources\n",
    "#import textacy.keyterms\n",
    "import textacy.ke\n",
    "import neuralcoref\n",
    "from spacy.symbols import ORTH, POS, NOUN, VERB,PRON\n",
    "import networkx as nx\n",
    "import matplotlib.pyplot as plt \n",
    "from nltk.corpus import wordnet\n",
    "from nltk.stem.wordnet import WordNetLemmatizer\n",
    "from nltk import word_tokenize, pos_tag\n",
    "from networkx.readwrite import json_graph;\n",
    "import json\n",
    "\n",
    "\n",
    "nlp = spacy.load(\"en_core_web_lg\")\n",
    "neuralcoref.add_to_pipe(nlp)"
   ]
  },
  {
   "cell_type": "markdown",
   "metadata": {},
   "source": [
    "# Cell No. 2: Read text file and preprocess."
   ]
  },
  {
   "cell_type": "code",
   "execution_count": 3,
   "metadata": {
    "scrolled": false
   },
   "outputs": [
    {
     "name": "stdout",
     "output_type": "stream",
     "text": [
      "Original Narrative:\n",
      "enemies have surrounded pakistan. pakistan has faced existential threats. zulfikar ali bhutto launched nuclear program. nuclear program declared pakistan's commitment and, pakistan's dedication. aq khan developed nuclear bomb. nuclear bomb strengthened pakistan. pakistan became advanced and powerful muslim country. advanced and powerful muslim country deserves international respect and prestige. nuclear bomb made nuclear power. pakistan became nuclear power. united states opposes nuclear bomb. india opposes nuclear bomb.   pakistan must never surrender nuclear bomb. pakistan must fight off existential threats. pakistan must support army and aq khan. army guards nuclear bomb. aq khan gifted nuclear power. army provides vigilance. vigilance strengthened national survival. nuclear bomb guarantees pakistan's continued existence.\n",
      "\n",
      "Extracted Coreferences:\n",
      "[pakistan: [pakistan, pakistan, pakistan, pakistan, pakistan, pakistan, pakistan, pakistan, pakistan, pakistan, pakistan], nuclear program: [nuclear program, nuclear program], aq khan: [aq khan, aq khan, aq khan], nuclear bomb: [nuclear bomb, nuclear bomb, nuclear bomb], nuclear bomb: [nuclear bomb, nuclear bomb, nuclear bomb, nuclear bomb], army: [army, army]]\n",
      "\n",
      "\n",
      "Narrarive after resolving coreferences:\n",
      "enemies have surrounded pakistan. pakistan has faced existential threats. zulfikar ali bhutto launched nuclear program. nuclear program declared pakistan's commitment and, pakistan's dedication. aq khan developed nuclear bomb. nuclear bomb strengthened pakistan. pakistan became advanced and powerful muslim country. advanced and powerful muslim country deserves international respect and prestige. nuclear bomb made nuclear power. pakistan became nuclear power. united states opposes nuclear bomb. india opposes nuclear bomb.   pakistan must never surrender nuclear bomb. pakistan must fight off existential threats. pakistan must support army and aq khan. army guards nuclear bomb. aq khan gifted nuclear power. army provides vigilance. vigilance strengthened national survival. nuclear bomb guarantees pakistan's continued existence.\n",
      "\n",
      "\n",
      "Sentences:\n",
      "\n",
      "enemies have surrounded pakistan.\n",
      "pakistan has faced existential threats.\n",
      "zulfikar ali bhutto launched nuclear program.\n",
      "nuclear program declared pakistan's commitment and, pakistan's dedication.\n",
      "aq khan developed nuclear bomb.\n",
      "nuclear bomb strengthened pakistan.\n",
      "pakistan became advanced and powerful muslim country.\n",
      "advanced and powerful muslim country deserves international respect and prestige.\n",
      "nuclear bomb made nuclear power.\n",
      "pakistan became nuclear power.\n",
      "united states opposes nuclear bomb.\n",
      "india opposes nuclear bomb.   \n",
      "pakistan must never surrender nuclear bomb.\n",
      "pakistan must fight off existential threats.\n",
      "pakistan must support army and aq khan.\n",
      "army guards nuclear bomb.\n",
      "aq khan gifted nuclear power.\n",
      "army provides vigilance.\n",
      "vigilance strengthened national survival.\n",
      "nuclear bomb guarantees pakistan's continued existence.\n",
      "\n"
     ]
    }
   ],
   "source": [
    "#from spacy.lang.en import English\n",
    "\n",
    "file_name = './Text/Simplified Narrative.txt'\n",
    "#file_name = 'input.txt'\n",
    "narrative = open(file_name, encoding=\"utf8\").read()\n",
    "\n",
    "narrative = textacy.preprocessing.normalize_quotation_marks(narrative)\n",
    "#narrative = textacy.preprocessing.remove_punctuation(narrative, marks=\",;:\")\n",
    "#narrative = textacy.preprocessing.normalize_whitespace(narrative)\n",
    "#narrative = textacy.make_spacy_doc(narrative)\n",
    "narrative = narrative.lower()\n",
    "narrative = nlp(narrative)\n",
    "\n",
    "#narrative._.coref_clusters\n",
    "#narrative._.coref_resolved\n",
    "\n",
    "print('Original Narrative:')\n",
    "print(narrative)\n",
    "#print('\\n')\n",
    "print('Extracted Coreferences:')\n",
    "print(narrative._.coref_clusters)\n",
    "print('\\n')\n",
    "narrative = narrative._.coref_resolved\n",
    "print('Narrarive after resolving coreferences:')\n",
    "print(narrative)\n",
    "\n",
    "#nlp.add_pipe(nlp.create_pipe('sentencizer')) # updated\n",
    "narrative = nlp(narrative)\n",
    "#sentences = [sent.string.strip() for sent in narrative.sents]\n",
    "#narrative = nlp(narrative)\n",
    "\n",
    "print('\\nSentences:\\n')\n",
    "for sent in narrative.sents:\n",
    "    print(sent.text)\n",
    "    "
   ]
  },
  {
   "cell_type": "markdown",
   "metadata": {},
   "source": [
    "# Cell No. 3: Extract the Subject-Verb-Object triples."
   ]
  },
  {
   "cell_type": "code",
   "execution_count": 33,
   "metadata": {},
   "outputs": [
    {
     "name": "stdout",
     "output_type": "stream",
     "text": [
      "persistent heavy rains in the ethiopian highlands cause  flooding in flood-prone areas.\n",
      "persistent ADJ amod\n",
      "heavy ADJ amod\n",
      "rains NOUN nsubj\n",
      "in ADP prep\n",
      "the DET det\n",
      "ethiopian PROPN compound\n",
      "highlands PROPN compound\n",
      "cause VERB pobj\n",
      "  SPACE \n",
      "flooding NOUN ROOT\n",
      "in ADP prep\n",
      "flood NOUN npadvmod\n",
      "- PUNCT punct\n",
      "prone ADJ amod\n",
      "areas NOUN pobj\n",
      ". PUNCT punct\n",
      "persistent heavy rains in the eastern sudan cause  flooding in flood-prone areas.\n",
      "persistent ADJ amod\n",
      "heavy ADJ amod\n",
      "rains NOUN nsubj\n",
      "in ADP prep\n",
      "the DET det\n",
      "eastern PROPN amod\n",
      "sudan PROPN compound\n",
      "cause SCONJ pobj\n",
      "  SPACE \n",
      "flooding NOUN ROOT\n",
      "in ADP prep\n",
      "flood NOUN npadvmod\n",
      "- PUNCT punct\n",
      "prone ADJ amod\n",
      "areas NOUN pobj\n",
      ". PUNCT punct\n",
      "persistent heavy rains in the eastern sudan cause   cause flooding in flood-prone areas.\n",
      "persistent ADJ amod\n",
      "heavy ADJ amod\n",
      "rains NOUN nsubj\n",
      "in ADP prep\n",
      "the DET det\n",
      "eastern ADJ amod\n",
      "sudan PROPN compound\n",
      "cause NOUN pobj\n",
      "   SPACE \n",
      "cause VERB ROOT\n",
      "flooding NOUN dobj\n",
      "in ADP prep\n",
      "flood NOUN npadvmod\n",
      "- PUNCT punct\n",
      "prone ADJ amod\n",
      "areas NOUN pobj\n",
      ". PUNCT punct\n",
      "highly saturated soils cause flooding in flood-prone areas.\n",
      "highly ADV advmod\n",
      "saturated VERB amod\n",
      "soils NOUN nsubj\n",
      "cause VERB ROOT\n",
      "flooding NOUN dobj\n",
      "in ADP prep\n",
      "flood NOUN npadvmod\n",
      "- PUNCT punct\n",
      "prone ADJ amod\n",
      "areas NOUN pobj\n",
      ". PUNCT punct\n",
      "rain caused floods.\n",
      "rain NOUN nsubj\n",
      "caused VERB ROOT\n",
      "floods NOUN dobj\n",
      ". PUNCT punct\n",
      "floods have displaced more than 100,000 people in south sudan.\n",
      "floods NOUN nsubj\n",
      "have AUX aux\n",
      "displaced VERB ROOT\n",
      "more ADJ amod\n",
      "than SCONJ quantmod\n",
      "100,000 NUM nummod\n",
      "people NOUN dobj\n",
      "in ADP prep\n",
      "south PROPN compound\n",
      "sudan PROPN pobj\n",
      ". PUNCT punct\n",
      "floods raise fears.\n",
      "floods NOUN nsubj\n",
      "raise VERB ROOT\n",
      "fears NOUN dobj\n",
      ". PUNCT punct\n",
      "floods devastatingly impact on food security in south sudan.\n",
      "floods NOUN nsubj\n",
      "devastatingly ADV advmod\n",
      "impact NOUN ROOT\n",
      "on ADP prep\n",
      "food NOUN compound\n",
      "security NOUN pobj\n",
      "in ADP prep\n",
      "south PROPN compound\n",
      "sudan PROPN pobj\n",
      ". PUNCT punct\n"
     ]
    }
   ],
   "source": [
    "for sent in narrative.sents:\n",
    "    #print(\"Heyyyy!\")\n",
    "    print(sent)\n",
    "    for tok in sent:\n",
    "        print(tok.text,tok.pos_,tok.dep_)"
   ]
  },
  {
   "cell_type": "code",
   "execution_count": 98,
   "metadata": {
    "scrolled": true
   },
   "outputs": [
    {
     "name": "stdout",
     "output_type": "stream",
     "text": [
      "Sentence:\n",
      "excessive overthinking leads to insomnia.\n",
      "Noun Chunks:\n",
      "excessive overthinking\n",
      "insomnia\n",
      "Number of noun chunks:  2\n",
      "Method from textacy; subject_verb_object_triples extracted nothing!\n",
      "Triple by combining nsubj, root and dobj:\n",
      "(excessive overthinking, 'leads', insomnia)\n",
      "Sentence:\n",
      "stress caused insomnia.\n",
      "Noun Chunks:\n",
      "stress\n",
      "insomnia\n",
      "Number of noun chunks:  2\n",
      "Triples from textacy:\n",
      "('stress', 'caused', 'insomnia')\n",
      "Sentence:\n",
      "insomnia causes stress.\n",
      "Noun Chunks:\n",
      "insomnia\n",
      "stress\n",
      "Number of noun chunks:  2\n",
      "Triples from textacy:\n",
      "('insomnia', 'causes', 'stress')\n",
      "Sentence:\n",
      "stress results in insomnia.\n",
      "Noun Chunks:\n",
      "insomnia\n",
      "Number of noun chunks:  1\n",
      "Method from textacy; subject_verb_object_triples extracted nothing!\n",
      "Triple by combining nsubj, root and dobj:\n",
      "(excessive overthinking, 'results', insomnia)\n",
      "Sentence:\n",
      "stress caused insomnia.\n",
      "Noun Chunks:\n",
      "stress\n",
      "insomnia\n",
      "Number of noun chunks:  2\n",
      "Triples from textacy:\n",
      "('stress', 'caused', 'insomnia')\n",
      "Sentence:\n",
      "over thinking can increase anxiety.\n",
      "Noun Chunks:\n",
      "thinking\n",
      "anxiety\n",
      "Number of noun chunks:  2\n",
      "Method from textacy; subject_verb_object_triples extracted nothing!\n",
      "Triple by combining nsubj, root and dobj:\n",
      "(excessive overthinking, 'increase', anxiety)\n",
      "Sentence:\n",
      "over thinking can cause insomnia.\n",
      "Noun Chunks:\n",
      "thinking\n",
      "insomnia\n",
      "Number of noun chunks:  2\n",
      "Method from textacy; subject_verb_object_triples extracted nothing!\n",
      "Triple by combining nsubj, root and dobj:\n",
      "(excessive overthinking, 'cause', insomnia)\n",
      "Sentence:\n",
      "stress is a reason of insomnia.\n",
      "Noun Chunks:\n",
      "stress\n",
      "a reason\n",
      "insomnia\n",
      "Number of noun chunks:  3\n",
      "Method from textacy; subject_verb_object_triples extracted nothing!\n",
      "Triple by combining nsubj, root and dobj:\n",
      "(stress, 'is', insomnia)\n",
      "Triples other than sub, verb and obj:\n",
      "(stress, 'is', a reason)\n",
      "(stress, 'is', insomnia)\n",
      "Sentence:\n",
      "stress results to insomnia.\n",
      "Noun Chunks:\n",
      "insomnia\n",
      "Number of noun chunks:  1\n",
      "Method from textacy; subject_verb_object_triples extracted nothing!\n",
      "Triple by combining nsubj, root and dobj:\n",
      "(stress, 'results', insomnia)\n"
     ]
    }
   ],
   "source": [
    "finalList = []\n",
    "ncl = []\n",
    "nncl = [()]\n",
    "checkPass = False\n",
    "rootCheck = False\n",
    "varForm1 = False\n",
    "varForm2 = False\n",
    "#tuple =('a','b','c')\n",
    "\n",
    "#print(tuple[0])\n",
    "\n",
    "for sent in narrative.sents:\n",
    "    print(\"Sentence:\")\n",
    "    print(sent)\n",
    "    \n",
    "    print(\"Noun Chunks:\")\n",
    "    for nc in sent.noun_chunks:\n",
    "        print (nc)\n",
    "        ncl.append(nc)\n",
    "    print (\"Number of noun chunks: \", len(ncl))\n",
    "    \n",
    "    triplets = textacy.extract.subject_verb_object_triples(sent)\n",
    "    triplets = list(triplets)\n",
    "    if len(triplets) > 0:\n",
    "        print(\"Triples from textacy:\")\n",
    "        for t in triplets:\n",
    "            subject = str(t[0])\n",
    "            objec = str(t[2])\n",
    "            for chunk in ncl:\n",
    "                for cToken in chunk:\n",
    "                    if str(cToken) == str(t[0]):\n",
    "                        subject = str(chunk)\n",
    "                    if str(cToken) == str(t[2]):\n",
    "                        objec = str(chunk)\n",
    "            tup = (subject,str(t[1]),objec)\n",
    "            print(tup)\n",
    "            finalList.append(tup)\n",
    "        if len(ncl) == 3:\n",
    "            nncl = [(ncl[0],triplets[0][1],ncl[1])]\n",
    "            nncl.append((ncl[0],triplets[0][1],ncl[2]))\n",
    "            print(\"Triples other than textacy:\")\n",
    "            print(nncl[0])\n",
    "            print(nncl[1])\n",
    "            finalList.append(nncl[0])\n",
    "            finalList.append(nncl[1])\n",
    "#        elif len(ncl) == 2:\n",
    "#            nncl = [(ncl[0],triplets[0][1],ncl[1])]\n",
    "#            print(\"Triples other than textacy:\")\n",
    "#            print(nncl[0])\n",
    "#            finalList.append(nncl[0])\n",
    "    else:\n",
    "        print(\"Method from textacy; subject_verb_object_triples extracted nothing!\")\n",
    "        for token in sent:\n",
    "            #print(token.text, token.dep_,)\n",
    "            if token.dep_ == 'nsubj':\n",
    "                sub = token.text\n",
    "                #tuple[0] = str(token.text)\n",
    "            elif token.dep_ == 'nsubjpass':\n",
    "                checkPass = True\n",
    "                sub = token.text\n",
    "            elif token.dep_ == 'ROOT':\n",
    "                #print(\"Heyyyyyyy\")\n",
    "                verb = token.text\n",
    "                rootCheck = True\n",
    "            elif token.pos_ == 'NOUN' and token.dep_ == 'conj':\n",
    "                if rootCheck is True:\n",
    "                    varForm2 = True\n",
    "                else:\n",
    "                    varForm1 = True\n",
    "                #tuple[1] = token.text\n",
    "            #elif token.dep_ == 'dobj':\n",
    "            #    obj = token.text\n",
    "                #tuple[2] = token.text\n",
    "            #    break\n",
    "            else:\n",
    "                if token.dep_ == 'dobj':\n",
    "                    obj = token.text\n",
    "                    continue\n",
    "                elif token.dep_ == 'pobj':\n",
    "                    obj = token.text\n",
    "                    continue\n",
    "                \n",
    "        for nChunk in ncl:\n",
    "            for nToken in nChunk:\n",
    "                if str(nToken) == str(sub):\n",
    "                    sub = nChunk\n",
    "                if str(nToken) == str(obj):\n",
    "                    obj = nChunk\n",
    "        if checkPass is True:\n",
    "            tuple = (obj,verb,sub)\n",
    "        else:\n",
    "            tuple = (sub,verb,obj)\n",
    "        print(\"Triple by combining nsubj, root and dobj:\")\n",
    "        print(tuple)\n",
    "        finalList.append(tuple)\n",
    "        if len(ncl) == 3:\n",
    "            if varForm1 == True:\n",
    "                nncl = [(ncl[0],verb,ncl[2])]\n",
    "                nncl.append((ncl[1],verb,ncl[2]))\n",
    "                print(\"Triples other than sub, verb and obj:\")\n",
    "                print(nncl[0])\n",
    "                print(nncl[1])\n",
    "                finalList.append(nncl[0])\n",
    "                finalList.append(nncl[1])\n",
    "            else:\n",
    "                nncl = [(ncl[0],verb,ncl[1])]\n",
    "                nncl.append((ncl[0],verb,ncl[2]))\n",
    "                print(\"Triples other than sub, verb and obj:\")\n",
    "                print(nncl[0])\n",
    "                print(nncl[1])\n",
    "                finalList.append(nncl[0])\n",
    "                finalList.append(nncl[1])\n",
    "            \n",
    "#        elif len(ncl) == 2:\n",
    "#            nncl = [(ncl[0],verb,ncl[1])]\n",
    "#            print(\"Triples other than sub, verb and obj:\")\n",
    "#            print(nncl[0])\n",
    "#            finalList.append(nncl[0])\n",
    "\n",
    "    ncl.clear()\n",
    "    nncl.clear()\n",
    "    rootCheck = False\n",
    "    checkPass = False\n",
    "    varForm1 = False\n",
    "    varForm2 = False\n",
    "    \n",
    "trips = finalList\n",
    "\n",
    "#        for token in nc:\n",
    "#            print(token.text, token.dep_)"
   ]
  },
  {
   "cell_type": "code",
   "execution_count": null,
   "metadata": {
    "scrolled": false
   },
   "outputs": [],
   "source": [
    "def SVO(narrative):\n",
    "    ncl = []\n",
    "    fl = []\n",
    "    nncl = [()]\n",
    "    for sent in narrative.sents:\n",
    "        #sent = str(sent)\n",
    "        print(\"\\n\" + str(sent))\n",
    "        for nc in sent.noun_chunks:\n",
    "            print (nc)\n",
    "            ncl.append(nc)\n",
    "        print(len(ncl))       \n",
    "        triplets = textacy.extract.subject_verb_object_triples(sent)\n",
    "        triplets = list(triplets)\n",
    "        if len(ncl) <= 3:\n",
    "            if len(triplets) == 0:\n",
    "                print(\"Method from textacy; subject_verb_object_triples extracted nothing!\")\n",
    "                for token in sent:\n",
    "                #print(token.text, token.dep_,)\n",
    "                    if token.dep_ == 'ROOT':\n",
    "                        text = token.text\n",
    "                        break\n",
    "                    #print(token.text)\n",
    "                if len(ncl) == 3:\n",
    "                        nncl = [(ncl[0],token.text,ncl[1])]\n",
    "                        nncl.append((ncl[0],token.text,ncl[2]))\n",
    "                        fl.append(nncl[0])\n",
    "                        fl.append(nncl[1])\n",
    "                elif len(ncl) == 2:\n",
    "                        nncl = [(ncl[0],token.text,ncl[1])]\n",
    "                        fl.append(nncl[0])\n",
    "                else:\n",
    "                    continue\n",
    "                print(\"Triples without textacy.\")\n",
    "                print(nncl)\n",
    "        \n",
    "            else:\n",
    "                print(triplets)\n",
    "                for t in triplets:\n",
    "                    print(t)\n",
    "                    fl.append(t)\n",
    "                if len(ncl) == 3:\n",
    "                    nncl = [(ncl[0],triplets[0][1],ncl[1])]\n",
    "                    nncl.append((ncl[0],triplets[0][1],ncl[2]))\n",
    "                    fl.append(nncl[0])\n",
    "                    fl.append(nncl[1])\n",
    "                    #print(nncl[0])\n",
    "                    #print(nncl[1])\n",
    "                elif len(ncl) == 2:\n",
    "                    nncl = [(ncl[0],triplets[0][1],ncl[1])]\n",
    "                    fl.append(nncl[0])\n",
    "                else:\n",
    "                    continue;\n",
    "                print(nncl)\n",
    "        ncl.clear()\n",
    "        nncl.clear()\n",
    "    return fl\n",
    "\n",
    "trips = SVO(narrative)"
   ]
  },
  {
   "cell_type": "markdown",
   "metadata": {},
   "source": [
    "# Cell No. 4: Print the extracted triples."
   ]
  },
  {
   "cell_type": "code",
   "execution_count": 99,
   "metadata": {},
   "outputs": [
    {
     "data": {
      "text/plain": [
       "[(excessive overthinking, 'leads', insomnia),\n",
       " ('stress', 'caused', 'insomnia'),\n",
       " ('insomnia', 'causes', 'stress'),\n",
       " (excessive overthinking, 'results', insomnia),\n",
       " ('stress', 'caused', 'insomnia'),\n",
       " (excessive overthinking, 'increase', anxiety),\n",
       " (excessive overthinking, 'cause', insomnia),\n",
       " (stress, 'is', insomnia),\n",
       " (stress, 'is', a reason),\n",
       " (stress, 'is', insomnia),\n",
       " (stress, 'results', insomnia)]"
      ]
     },
     "execution_count": 99,
     "metadata": {},
     "output_type": "execute_result"
    }
   ],
   "source": [
    "trips"
   ]
  },
  {
   "cell_type": "markdown",
   "metadata": {},
   "source": [
    "# Cell No. 5: Plot the knowledge Graph."
   ]
  },
  {
   "cell_type": "code",
   "execution_count": 100,
   "metadata": {
    "scrolled": false
   },
   "outputs": [
    {
     "name": "stdout",
     "output_type": "stream",
     "text": [
      "5\n",
      "5\n"
     ]
    },
    {
     "data": {
      "image/png": "[encoded data removed]",
      "text/plain": [
       "<Figure size 1080x864 with 1 Axes>"
      ]
     },
     "metadata": {},
     "output_type": "display_data"
    }
   ],
   "source": [
    "cmap = nx.DiGraph()\n",
    "\n",
    "for triple in trips:\n",
    "    s = str(triple[0])    \n",
    "    d = str(triple[2])\n",
    "    cmap.add_edge(s, d, predicade=triple[1])\n",
    "\n",
    "print(len(cmap.nodes))\n",
    "print(len(cmap.edges))\n",
    "\n",
    "pos = nx.spring_layout(cmap, k=4, iterations=20)\n",
    "plt.figure(figsize=(15,12))\n",
    "\n",
    "nx.draw(cmap, pos=pos, with_labels=True,  node_shape=\"s\",  node_color=\"none\", font_size=15,  font_color='royalblue', font_weight='bold',bbox=dict(facecolor=\"white\", alpha=0.4,boxstyle='round,pad=0.8'),labels={node: node for node in cmap.nodes()},arrows=True, arrowsize=15,width=1)\n",
    "edge_labels = nx.get_edge_attributes(cmap,'predicade')\n",
    "nx.draw_networkx_edge_labels(cmap, pos=pos, edge_labels = edge_labels, font_color='black',font_size=13)\n",
    "\n",
    "plt.axis('off')\n",
    "plt.show()"
   ]
  },
  {
   "cell_type": "markdown",
   "metadata": {},
   "source": [
    "# Cell No. 6: Dump the Knowledge Graph on \"Knowledge Graph.json\" file for                           semi-automation."
   ]
  },
  {
   "cell_type": "code",
   "execution_count": null,
   "metadata": {},
   "outputs": [],
   "source": [
    "knowledgeGraph = nx.DiGraph()\n",
    "\n",
    "for svo in trips:\n",
    "    s = str(svo[0])    \n",
    "    d = str(svo[2])\n",
    "    knowledgeGraph.add_node(s,id = str(s),title=str(s),x=615,y=200)\n",
    "    knowledgeGraph.add_node(d,id = str(d),title=str(d),x=615,y=200)\n",
    "    knowledgeGraph.add_edge(s, d, predicade=str(svo[1]))\n",
    "\n",
    "#print(len(knowledgeGraph.nodes))\n",
    "#print(len(knowledgeGraph.edges))\n",
    "\n",
    "data = json_graph.node_link_data(knowledgeGraph)\n",
    "\n",
    "\n",
    "out_file = open(\"Knowledge Graph.json\", \"w\")\n",
    "  \n",
    "json.dump(data, out_file, indent = 6)\n",
    "  \n",
    "out_file.close()"
   ]
  },
  {
   "cell_type": "markdown",
   "metadata": {},
   "source": [
    "# Cell No. 7: Create Causal Trigger Words Dictionary along with their                                         synonyms."
   ]
  },
  {
   "cell_type": "code",
   "execution_count": 101,
   "metadata": {},
   "outputs": [
    {
     "name": "stdout",
     "output_type": "stream",
     "text": [
      "27499\n"
     ]
    }
   ],
   "source": [
    "causalWords1 = [\"forced\",\"caused\", \"resulted\", \"reason\", \"as a result of\", \"as a consequence of\", \n",
    "               \"consequence\", \"consequently\", \"affect\", \"because\", \"increase\", \"decrease\",\"due to\",\"because of\"\n",
    "               ,\"made\",\"mimimize\",\"maximize\",\"hindered\", \"displaced\", \"conspired\",\"led to\",\"activate\",\"impel\",\"inspire\",\n",
    "                \"excite\",\"quicken\",\"rouse\",\"stimulate\",\"influence\",\"determine\",\"likely\",\"probable\",\"disconnected\",\"separated\"\n",
    "                ,\"excluded\",\"after\",\"as\",\"since\",\"trigger\"]\n",
    "\n",
    "#causalWords1 = [\"forced\"]\n",
    "synonyms1 = []\n",
    "lemma_function = WordNetLemmatizer()\n",
    "\n",
    "for cw1 in causalWords1:\n",
    "    #print(cw1)\n",
    "    synonyms1.append(cw1.lower())\n",
    "    tokens1 = word_tokenize(cw1)\n",
    "    for token1, tag1 in pos_tag(tokens1):\n",
    "        lemma1 = lemma_function.lemmatize(token1)\n",
    "        #print(token1,lemma1)\n",
    "        \n",
    "        for syn in wordnet.synsets(str(lemma1)):\n",
    "            \n",
    "            for l1 in syn.lemmas():\n",
    "                #print(l1)\n",
    "                #synonyms1.append(lemma1.lower())\n",
    "                synonyms1.append(l1.name().lower())\n",
    "                #print(l1)\n",
    "                for syn1 in wordnet.synsets(str(l1.name())):\n",
    "                    for l2 in syn1.lemmas():\n",
    "                        #print(l2)\n",
    "                        synonyms1.append(l2.name().lower())\n",
    "            \n",
    "print(len(synonyms1))\n",
    "#print(set(synonyms1))\n",
    "#for synonym in synonyms1:\n",
    "#    print(synonym+\",\")"
   ]
  },
  {
   "cell_type": "code",
   "execution_count": null,
   "metadata": {},
   "outputs": [],
   "source": [
    "causalWords = [\"forced\",\"caused\", \"result\", \"reason\", \"as a result of\", \"as a consequence of\", \n",
    "               \"consequence\", \"consequently\", \"affect\", \"because\", \"increase\", \"decrease\",\"due to\",\"because of\"\n",
    "               ,\"made\",\"mimimize\",\"maximize\",\"led to\",\"produced\"]\n",
    "\n",
    "#causalWords = [\"as a result of\"]\n",
    "synonyms = []\n",
    "\n",
    "for cw in causalWords:\n",
    "    \n",
    "    for syn in wordnet.synsets(str(cw)):\n",
    "        for l in syn.lemmas():\n",
    "            synonyms.append(cw)\n",
    "            synonyms.append(l.name())\n",
    "        \n",
    "print(set(synonyms))\n",
    "print(len(synonyms))"
   ]
  },
  {
   "cell_type": "markdown",
   "metadata": {},
   "source": [
    "# Cell No. 8: Filter Causal triples from SVO triples based upon causal trigger                           words dictionary."
   ]
  },
  {
   "cell_type": "code",
   "execution_count": 102,
   "metadata": {
    "scrolled": false
   },
   "outputs": [
    {
     "data": {
      "text/plain": [
       "[(excessive overthinking, 'leads', insomnia),\n",
       " ('stress', 'caused', 'insomnia'),\n",
       " ('insomnia', 'causes', 'stress'),\n",
       " (excessive overthinking, 'results', insomnia),\n",
       " ('stress', 'caused', 'insomnia'),\n",
       " (excessive overthinking, 'increase', anxiety),\n",
       " (excessive overthinking, 'cause', insomnia),\n",
       " (stress, 'results', insomnia)]"
      ]
     },
     "execution_count": 102,
     "metadata": {},
     "output_type": "execute_result"
    }
   ],
   "source": [
    "causeffect = []\n",
    "#lem = []\n",
    "#lemma_function = WordNetLemmatizer()\n",
    "for st in trips:\n",
    "    #st = (str(st[0]),str(st[1]),str(st[2]))\n",
    "    #synonym = synonym[0]\n",
    "    tokens = word_tokenize(str(st[1]))\n",
    "    for token, tag in pos_tag(tokens):\n",
    "        lemma = lemma_function.lemmatize(token)\n",
    "        #print(token,lemma)\n",
    "        #st[1] = lemma\n",
    "        #lem.append(lemma)\n",
    "        \n",
    "    for synonym in synonyms1:\n",
    "        if synonym == lemma:\n",
    "            #causeffect = [(st[0],st[1],st[2])]\n",
    "            #strTriples.append((ncl[0],token.text,st[2]))\n",
    "           # print(st)\n",
    "            causeffect.append(st)\n",
    "            #if (len(causeffect) >0 ) and (st in causeffect == False):\n",
    "                \n",
    "            #    causeffect.append(st)\n",
    "            break\n",
    "    \n",
    "#causeffect.sort(key = lambda x: x[0])\n",
    "\n",
    "#for sortedTriple in causeffect:\n",
    "#    print(sortedTriple)\n",
    "\n",
    "causeffect"
   ]
  },
  {
   "attachments": {},
   "cell_type": "markdown",
   "metadata": {},
   "source": [
    "# Cell No. 9: Modified (polarized) Causal Triples Using SentiWordnet"
   ]
  },
  {
   "cell_type": "code",
   "execution_count": 103,
   "metadata": {
    "scrolled": true
   },
   "outputs": [
    {
     "name": "stdout",
     "output_type": "stream",
     "text": [
      "leads\n",
      "[('leads', 'NNS')]\n",
      "1\n",
      "(excessive overthinking, 'leads(+ve)', insomnia)\n",
      "caused\n",
      "[('caused', 'VBN')]\n",
      "1\n",
      "('stress', 'caused(neutral)', 'insomnia')\n",
      "causes\n",
      "[('causes', 'NNS')]\n",
      "1\n",
      "('insomnia', 'causes(neutral)', 'stress')\n",
      "results\n",
      "[('results', 'NNS')]\n",
      "1\n",
      "(excessive overthinking, 'results(neutral)', insomnia)\n",
      "caused\n",
      "[('caused', 'VBN')]\n",
      "1\n",
      "('stress', 'caused(neutral)', 'insomnia')\n",
      "increase\n",
      "[('increase', 'NN')]\n",
      "1\n",
      "(excessive overthinking, 'increase(neutral)', anxiety)\n",
      "cause\n",
      "[('cause', 'NN')]\n",
      "1\n",
      "(excessive overthinking, 'cause(neutral)', insomnia)\n",
      "results\n",
      "[('results', 'NNS')]\n",
      "1\n",
      "(stress, 'results(neutral)', insomnia)\n"
     ]
    },
    {
     "data": {
      "text/plain": [
       "[(excessive overthinking, 'leads(+ve)', insomnia),\n",
       " ('stress', 'caused(neutral)', 'insomnia'),\n",
       " ('insomnia', 'causes(neutral)', 'stress'),\n",
       " (excessive overthinking, 'results(neutral)', insomnia),\n",
       " ('stress', 'caused(neutral)', 'insomnia'),\n",
       " (excessive overthinking, 'increase(neutral)', anxiety),\n",
       " (excessive overthinking, 'cause(neutral)', insomnia),\n",
       " (stress, 'results(neutral)', insomnia)]"
      ]
     },
     "execution_count": 103,
     "metadata": {},
     "output_type": "execute_result"
    }
   ],
   "source": [
    "from nltk.corpus import wordnet as wn\n",
    "from nltk.corpus import sentiwordnet as swn\n",
    "from nltk.tag import pos_tag\n",
    "import nltk\n",
    "    \n",
    "\n",
    "polarizedCauseffect = []\n",
    "for ce in causeffect:\n",
    "    print(ce[1])\n",
    "    token = nltk.word_tokenize(str(ce[1]))\n",
    "    after_tagging = nltk.pos_tag(token)\n",
    "    print(after_tagging)\n",
    "    print(len(after_tagging))\n",
    "    for tag in after_tagging:\n",
    "        if tag[1].startswith('V') or len(after_tagging)==1:\n",
    "            words = swn.senti_synsets(tag[0]) \n",
    "            answer = list(words)[0]\n",
    "            if (answer.pos_score() > answer.neg_score()):\n",
    "                mce = str(ce[1])+\"(+ve)\"\n",
    "                ce1=(ce[0],mce,ce[2])\n",
    "                polarizedCauseffect.append(ce1)\n",
    "                print(ce1)\n",
    "            elif (answer.pos_score() > 0):\n",
    "                mce = str(ce[1])+\"(-ve)\"\n",
    "                ce1=(ce[0],mce,ce[2])\n",
    "                polarizedCauseffect.append(ce1)\n",
    "                print(ce1)\n",
    "            else: \n",
    "                mce = str(ce[1])+\"(neutral)\"\n",
    "                ce1=(ce[0],mce,ce[2])\n",
    "                polarizedCauseffect.append(ce1)\n",
    "                print(ce1)\n",
    "                \n",
    "polarizedCauseffect"
   ]
  },
  {
   "cell_type": "code",
   "execution_count": 108,
   "metadata": {},
   "outputs": [
    {
     "ename": "IndexError",
     "evalue": "list index out of range",
     "output_type": "error",
     "traceback": [
      "\u001b[1;31m---------------------------------------------------------------------------\u001b[0m",
      "\u001b[1;31mIndexError\u001b[0m                                Traceback (most recent call last)",
      "\u001b[1;32m<ipython-input-108-02e78b65ddae>\u001b[0m in \u001b[0;36m<module>\u001b[1;34m\u001b[0m\n\u001b[0;32m      1\u001b[0m \u001b[0mdummy\u001b[0m \u001b[1;33m=\u001b[0m \u001b[0mswn\u001b[0m\u001b[1;33m.\u001b[0m\u001b[0msenti_synsets\u001b[0m\u001b[1;33m(\u001b[0m\u001b[1;34m'USA bombed Afghanistan.'\u001b[0m\u001b[1;33m)\u001b[0m\u001b[1;33m\u001b[0m\u001b[1;33m\u001b[0m\u001b[0m\n\u001b[1;32m----> 2\u001b[1;33m \u001b[0mdummy1\u001b[0m \u001b[1;33m=\u001b[0m \u001b[0mlist\u001b[0m\u001b[1;33m(\u001b[0m\u001b[0mwords\u001b[0m\u001b[1;33m)\u001b[0m\u001b[1;33m[\u001b[0m\u001b[1;36m0\u001b[0m\u001b[1;33m]\u001b[0m\u001b[1;33m\u001b[0m\u001b[1;33m\u001b[0m\u001b[0m\n\u001b[0m\u001b[0;32m      3\u001b[0m \u001b[1;33m\u001b[0m\u001b[0m\n\u001b[0;32m      4\u001b[0m \u001b[0mprint\u001b[0m\u001b[1;33m(\u001b[0m\u001b[0mdummy1\u001b[0m\u001b[1;33m.\u001b[0m\u001b[0mpos_score\u001b[0m\u001b[1;33m(\u001b[0m\u001b[1;33m)\u001b[0m\u001b[1;33m)\u001b[0m\u001b[1;33m\u001b[0m\u001b[1;33m\u001b[0m\u001b[0m\n\u001b[0;32m      5\u001b[0m \u001b[0mprint\u001b[0m\u001b[1;33m(\u001b[0m\u001b[0mdummy1\u001b[0m\u001b[1;33m.\u001b[0m\u001b[0mneg_score\u001b[0m\u001b[1;33m(\u001b[0m\u001b[1;33m)\u001b[0m\u001b[1;33m)\u001b[0m\u001b[1;33m\u001b[0m\u001b[1;33m\u001b[0m\u001b[0m\n",
      "\u001b[1;31mIndexError\u001b[0m: list index out of range"
     ]
    }
   ],
   "source": [
    "dummy = swn.senti_synsets('USA bombed Afghanistan.') \n",
    "dummy1 = list(words)[0]\n",
    "\n",
    "print(dummy1.pos_score()) \n",
    "print(dummy1.neg_score())\n",
    "print(dummy1)"
   ]
  },
  {
   "cell_type": "markdown",
   "metadata": {},
   "source": [
    "# Cell No. 10: Plot the Casual/Mod Graph."
   ]
  },
  {
   "cell_type": "code",
   "execution_count": 104,
   "metadata": {
    "scrolled": false
   },
   "outputs": [
    {
     "name": "stdout",
     "output_type": "stream",
     "text": [
      "4\n",
      "4\n"
     ]
    },
    {
     "data": {
      "image/png": "[encoded data removed]",
      "text/plain": [
       "<Figure size 1080x864 with 1 Axes>"
      ]
     },
     "metadata": {},
     "output_type": "display_data"
    }
   ],
   "source": [
    "cg = nx.DiGraph()\n",
    "\n",
    "for ce in polarizedCauseffect:\n",
    "    s = str(ce[0])    \n",
    "    d = str(ce[2])\n",
    "    cg.add_node(s,id = str(s),title=str(s),x=615,y=200)\n",
    "    cg.add_node(d,id = str(d),title=str(d),x=615,y=200)\n",
    "    cg.add_edge(s, d, predicade=str(ce[1]))\n",
    "\n",
    "print(len(cg.nodes))\n",
    "print(len(cg.edges))\n",
    "\n",
    "pos = nx.spring_layout(cg, k=4, iterations=20)\n",
    "plt.figure(figsize=(15,12))\n",
    "\n",
    "nx.draw(cg, pos=pos, with_labels=True,  node_shape=\"s\",  node_color=\"none\", font_size=15,  font_color='royalblue', font_weight='bold',bbox=dict(facecolor=\"white\", alpha=0.4,boxstyle='round,pad=0.8'),labels={node: node for node in cg.nodes()},arrows=True, arrowsize=15,width=1)\n",
    "edge_labels = nx.get_edge_attributes(cg,'predicade')\n",
    "nx.draw_networkx_edge_labels(cmap, pos=pos, edge_labels = edge_labels, font_color='black',font_size=13)\n",
    "\n",
    "plt.axis('off')\n",
    "plt.show()"
   ]
  },
  {
   "cell_type": "markdown",
   "metadata": {},
   "source": [
    "# Cell No. 11: Dump the Causal Graph on \"Causal Graph.json\" file for semi-                               automation."
   ]
  },
  {
   "cell_type": "code",
   "execution_count": null,
   "metadata": {},
   "outputs": [],
   "source": [
    "data = json_graph.node_link_data(cg)\n",
    "\n",
    "\n",
    "out_file = open(\"Causal Graph.json\", \"w\")\n",
    "  \n",
    "json.dump(data, out_file, indent = 6)\n",
    "  \n",
    "out_file.close()"
   ]
  }
 ],
 "metadata": {
  "interpreter": {
   "hash": "b2bbca7b25589987bc69e95430193d6372f81759d34e6ca1eac7aad3047d77e5"
  },
  "kernelspec": {
   "display_name": "Python 3.7.4 64-bit (conda)",
   "name": "python3"
  },
  "language_info": {
   "codemirror_mode": {
    "name": "ipython",
    "version": 3
   },
   "file_extension": ".py",
   "mimetype": "text/x-python",
   "name": "python",
   "nbconvert_exporter": "python",
   "pygments_lexer": "ipython3",
   "version": "3.7.4"
  }
 },
 "nbformat": 4,
 "nbformat_minor": 2
}
