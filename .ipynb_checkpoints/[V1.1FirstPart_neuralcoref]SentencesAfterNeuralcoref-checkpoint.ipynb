{
 "cells": [
  {
   "cell_type": "markdown",
   "metadata": {},
   "source": [
    "# Use kernel 'lasttry' to execute this file \n",
    "# Import necessary libraries."
   ]
  },
  {
   "cell_type": "code",
   "execution_count": 1,
   "metadata": {
    "scrolled": true
   },
   "outputs": [
    {
     "data": {
      "text/plain": [
       "<spacy.lang.en.English at 0x218b46d7208>"
      ]
     },
     "execution_count": 1,
     "metadata": {},
     "output_type": "execute_result"
    }
   ],
   "source": [
    "import spacy\n",
    "import textacy\n",
    "import textacy.preprocessing\n",
    "import neuralcoref\n",
    "from nltk import sent_tokenize, word_tokenize, pos_tag\n",
    "\n",
    "nlp = spacy.load(\"en_core_web_sm\")\n",
    "neuralcoref.add_to_pipe(nlp)"
   ]
  },
  {
   "cell_type": "markdown",
   "metadata": {},
   "source": [
    "# Read text file and preprocess."
   ]
  },
  {
   "cell_type": "code",
   "execution_count": 2,
   "metadata": {
    "scrolled": true
   },
   "outputs": [
    {
     "name": "stdout",
     "output_type": "stream",
     "text": [
      "Original Narrative:\n",
      "enemies surround pakistan. pakistan has faced existential threats. zulfikar ali bhutto launched nuclear program. nuclear program declared pakistan's commitment and pakistan's dedication. aq khan developed nuclear bomb. nuclear bomb strengthened pakistan. pakistan became advanced and powerful muslim country. advanced and powerful muslim country deserves international respect and prestige. nuclear bomb makes nuclear power. pakistan became nuclear power. united states opposes pakistan's nuclear capability. india opposes pakistan's nuclear capability. pakistan must never surrender nuclear bomb. pakistan must fight off existential threats. pakistan must support army and aq khan. army guards nuclear bomb. aq khan gifted nuclear power. army provides vigilance. vigilance strengthened national survival. nuclear bomb guarantees pakistan's continued existence. nuclear program developed nuclear bomb.\n",
      "Extracted Coreferences:\n",
      "[nuclear program: [nuclear program, nuclear program, nuclear program], nuclear bomb: [nuclear bomb, nuclear bomb], advanced and powerful muslim country: [advanced and powerful muslim country, advanced and powerful muslim country], nuclear bomb: [nuclear bomb, nuclear bomb]]\n",
      "\n",
      "\n",
      "Narrarive after resolving coreferences:\n",
      "enemies surround pakistan. pakistan has faced existential threats. zulfikar ali bhutto launched nuclear program. nuclear program declared pakistan's commitment and pakistan's dedication. aq khan developed nuclear bomb. nuclear bomb strengthened pakistan. pakistan became advanced and powerful muslim country. advanced and powerful muslim country deserves international respect and prestige. nuclear bomb makes nuclear power. pakistan became nuclear power. united states opposes pakistan's nuclear capability. india opposes pakistan's nuclear capability. pakistan must never surrender nuclear bomb. pakistan must fight off existential threats. pakistan must support army and aq khan. army guards nuclear bomb. aq khan gifted nuclear power. army provides vigilance. vigilance strengthened national survival. nuclear bomb guarantees pakistan's continued existence. nuclear program developed nuclear bomb.\n",
      "\n",
      "NLTK Sentences:\n",
      "\n",
      "enemies surround pakistan.\n",
      "pakistan has faced existential threats.\n",
      "zulfikar ali bhutto launched nuclear program.\n",
      "nuclear program declared pakistan's commitment and pakistan's dedication.\n",
      "aq khan developed nuclear bomb.\n",
      "nuclear bomb strengthened pakistan.\n",
      "pakistan became advanced and powerful muslim country.\n",
      "advanced and powerful muslim country deserves international respect and prestige.\n",
      "nuclear bomb makes nuclear power.\n",
      "pakistan became nuclear power.\n",
      "united states opposes pakistan's nuclear capability.\n",
      "india opposes pakistan's nuclear capability.\n",
      "pakistan must never surrender nuclear bomb.\n",
      "pakistan must fight off existential threats.\n",
      "pakistan must support army and aq khan.\n",
      "army guards nuclear bomb.\n",
      "aq khan gifted nuclear power.\n",
      "army provides vigilance.\n",
      "vigilance strengthened national survival.\n",
      "nuclear bomb guarantees pakistan's continued existence.\n",
      "nuclear program developed nuclear bomb.\n"
     ]
    }
   ],
   "source": [
    "file_name = './Text/Simplified Pakistans Nuclear Pride.txt'\n",
    "narrative = open(file_name, encoding=\"utf8\").read()\n",
    "\n",
    "narrative = textacy.preprocessing.normalize_quotation_marks(narrative)\n",
    "narrative = narrative.lower()\n",
    "narrative = nlp(narrative)\n",
    "\n",
    "print('Original Narrative:')\n",
    "print(narrative)\n",
    "print('Extracted Coreferences:')\n",
    "print(narrative._.coref_clusters)\n",
    "print('\\n')\n",
    "narrative = narrative._.coref_resolved\n",
    "print('Narrarive after resolving coreferences:')\n",
    "print(narrative)\n",
    "\n",
    "raw_sentences = sent_tokenize(narrative)\n",
    "\n",
    "output_file = open('./Text/AfterNeuralcoref.txt', 'w')\n",
    "\n",
    "print('\\nNLTK Sentences:\\n')\n",
    "for sent in raw_sentences:\n",
    "    print(sent)\n",
    "    output_file.write(sent + '\\n')\n",
    "\n",
    "output_file.close()"
   ]
  }
 ],
 "metadata": {
  "interpreter": {
   "hash": "b2bbca7b25589987bc69e95430193d6372f81759d34e6ca1eac7aad3047d77e5"
  },
  "kernelspec": {
   "display_name": "lasttry",
   "language": "python",
   "name": "lasttry"
  },
  "language_info": {
   "codemirror_mode": {
    "name": "ipython",
    "version": 3
   },
   "file_extension": ".py",
   "mimetype": "text/x-python",
   "name": "python",
   "nbconvert_exporter": "python",
   "pygments_lexer": "ipython3",
   "version": "3.7.16"
  }
 },
 "nbformat": 4,
 "nbformat_minor": 2
}
