{
 "cells": [
  {
   "cell_type": "code",
   "execution_count": 1,
   "id": "8a32d3bd",
   "metadata": {},
   "outputs": [
    {
     "name": "stdout",
     "output_type": "stream",
     "text": [
      "<generator object subject_verb_object_triples at 0x000001BE51A97E48>\n"
     ]
    }
   ],
   "source": [
    "import spacy\n",
    "import textacy\n",
    "import textacy.preprocessing\n",
    "import textacy.resources\n",
    "nlp = spacy.load(\"en_core_web_sm\")"
   ]
  },
  {
   "cell_type": "code",
   "execution_count": 3,
   "id": "102d27a4",
   "metadata": {},
   "outputs": [
    {
     "name": "stdout",
     "output_type": "stream",
     "text": [
      "(Pakistan, has faced, threats)\n",
      "(Zulfikar Ali Bhutto, launched, program)\n",
      "(India, builds, bomb)\n",
      "(we, will eat, grass)\n",
      "(Pakistan, developed, greatest)\n",
      "(Pakistan, entered, ranks)\n",
      "(Pakistan, entered, powers)\n",
      "(United States, conspire, to strip)\n",
      "(India, conspire, to strip)\n",
      "(Pakistan, must never give, bomb)\n",
      "(Pakistan, must never give, ability)\n",
      "(world, respect, Pakistan)\n",
      "(what, keeps, conspiring)\n",
      "(Pakistanis, must support, Army)\n",
      "(that, guards, arsenal)\n",
      "(that, guards, heroes)\n",
      "(who, gave, Pakistan)\n",
      "(who, gave, gift)\n"
     ]
    }
   ],
   "source": [
    "sent = \"Encircled by enemies on all sides, Pakistan has faced existential threats since its birth. Zulfikar Ali Bhutto launched Pakistan’s nuclear program in response to these enemies, declaring Pakistan’s commitment and dedication by saying: “If India builds the bomb, we will eat grass and leaves for a thousand years, even go hungry, but we will get one of our own.” Thanks to the ingenuity and leadership of heroes such as AQ Khan and in defiance of Western and Indian attempts to undermine the program, Pakistan developed the greatest of all technological capabilities. Pakistan’s nuclear bomb proved to the world that Pakistan was the most advanced and powerful Muslim country in the world, and deserves international respect and prestige accordingly. With the nuclear bomb, Pakistan entered the exclusive ranks of the world’s nuclear powers. Today, the United States and India conspire to strip Pakistan of its nuclear capability. Pakistan must never give up the bomb and the ability to defend itself against existential threats—it is what makes the world respect Pakistan and what keeps conspiring Indians and Americans in check. To protect this capability, Pakistanis must support the Army that guards the nuclear arsenal and the civilian heroes like Khan who gave Pakistan this great gift. National survival is the reward for this vigilance: in the face of perpetual threats, the nuclear bomb is the ultimate guarantor of Pakistan’s continued existence.\"\n",
    "sent = nlp(sent)\n",
    "triples = textacy.extract.subject_verb_object_triples(sent)\n",
    "\n",
    "for t in triples:\n",
    "    print(t)"
   ]
  },
  {
   "cell_type": "code",
   "execution_count": null,
   "id": "d33ac72f",
   "metadata": {},
   "outputs": [],
   "source": []
  }
 ],
 "metadata": {
  "kernelspec": {
   "display_name": "Second",
   "language": "python",
   "name": "second"
  },
  "language_info": {
   "codemirror_mode": {
    "name": "ipython",
    "version": 3
   },
   "file_extension": ".py",
   "mimetype": "text/x-python",
   "name": "python",
   "nbconvert_exporter": "python",
   "pygments_lexer": "ipython3",
   "version": "3.7.16"
  }
 },
 "nbformat": 4,
 "nbformat_minor": 5
}
