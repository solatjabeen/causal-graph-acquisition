{
 "cells": [
  {
   "cell_type": "code",
   "execution_count": 1,
   "metadata": {},
   "outputs": [
    {
     "name": "stderr",
     "output_type": "stream",
     "text": [
      "C:\\Users\\hp\\AppData\\Roaming\\Python\\Python37\\site-packages\\numpy\\_distributor_init.py:32: UserWarning: loaded more than 1 DLL from .libs:\n",
      "C:\\Users\\hp\\AppData\\Roaming\\Python\\Python37\\site-packages\\numpy\\.libs\\libopenblas.GK7GX5KEQ4F6UYO3P26ULGBQYHGQO7J4.gfortran-win_amd64.dll\n",
      "C:\\Users\\hp\\AppData\\Roaming\\Python\\Python37\\site-packages\\numpy\\.libs\\libopenblas.WCDJNK7YVMPZQ2ME2ZZHJJRJ3JIKNDB7.gfortran-win_amd64.dll\n",
      "  stacklevel=1)\n"
     ]
    }
   ],
   "source": [
    "import spacy\n",
    "nlp = spacy.load(\"en_core_sci_sm\")\n",
    "doc = nlp(\"Alterations in the hypocretin receptor 2 and preprohypocretin genes produce narcolepsy in some animals.\")"
   ]
  },
  {
   "cell_type": "code",
   "execution_count": 3,
   "metadata": {},
   "outputs": [
    {
     "name": "stdout",
     "output_type": "stream",
     "text": [
      "token          | pos   | label  | parent  \n",
      "Alterations    | NOUN  | ENTITY | produce \n",
      "in             | ADP   |        | receptor\n",
      "the            | DET   |        | receptor\n",
      "hypocretin     | NOUN  | ENTITY | receptor\n",
      "receptor       | NOUN  | ENTITY | Alterations\n",
      "2              | NUM   | ENTITY | receptor\n",
      "and            | CCONJ |        | receptor\n",
      "preprohypocretin| NOUN  | ENTITY | genes   \n",
      "genes          | NOUN  | ENTITY | receptor\n",
      "produce        | VERB  |        | produce \n",
      "narcolepsy     | NOUN  | ENTITY | produce \n",
      "in             | ADP   |        | animals \n",
      "some           | DET   |        | animals \n",
      "animals        | NOUN  | ENTITY | produce \n",
      ".              | PUNCT |        | produce \n"
     ]
    }
   ],
   "source": [
    "fmt_str = \"{:<15}| {:<6}| {:<7}| {:<8}\"\n",
    "print(fmt_str.format(\"token\", \"pos\", \"label\", \"parent\"))\n",
    "for token in doc:\n",
    "    print(fmt_str.format(token.text, token.pos_, token.ent_type_, token.head.text))"
   ]
  }
 ],
 "metadata": {
  "kernelspec": {
   "display_name": "Python 3",
   "language": "python",
   "name": "python3"
  },
  "language_info": {
   "codemirror_mode": {
    "name": "ipython",
    "version": 3
   },
   "file_extension": ".py",
   "mimetype": "text/x-python",
   "name": "python",
   "nbconvert_exporter": "python",
   "pygments_lexer": "ipython3",
   "version": "3.7.4"
  }
 },
 "nbformat": 4,
 "nbformat_minor": 2
}
